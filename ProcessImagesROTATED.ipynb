{
 "cells": [
  {
   "cell_type": "markdown",
   "metadata": {},
   "source": [
    "This notebook will downsample 8,000 images from our set of images to 28x28 images and 128x128 images.\n",
    "Finally it rotates these images in three angles and saves them for later model training. The notebook\n",
    "that reads this files is ProjectROTADED."
   ]
  },
  {
   "cell_type": "code",
   "execution_count": 1,
   "metadata": {
    "scrolled": true
   },
   "outputs": [
    {
     "name": "stderr",
     "output_type": "stream",
     "text": [
      "/anaconda3/lib/python3.6/site-packages/h5py/__init__.py:36: FutureWarning: Conversion of the second argument of issubdtype from `float` to `np.floating` is deprecated. In future, it will be treated as `np.float64 == np.dtype(float).type`.\n",
      "  from ._conv import register_converters as _register_converters\n"
     ]
    }
   ],
   "source": [
    "# It will save them in the /train subfolder\n",
    "\n",
    "#!pip install scikit-image\n",
    "import os\n",
    "import matplotlib.pyplot as plt\n",
    "import tensorflow as tf\n",
    "import random\n",
    "from scipy.ndimage import rotate\n",
    "import numpy as np\n",
    "\n",
    "from skimage import io\n",
    "from skimage.transform import rescale, resize, downscale_local_mean\n",
    "\n",
    "IMAGE_SIZE1 = 28 # parameter: change this to change downsample size of image\n",
    "IMAGE_SIZE2 = 128 # parameter: change this to change downsample size of image\n",
    "angle1 = 90\n",
    "angle2 = 180\n",
    "angle3 = 270"
   ]
  },
  {
   "cell_type": "code",
   "execution_count": 2,
   "metadata": {},
   "outputs": [
    {
     "name": "stdout",
     "output_type": "stream",
     "text": [
      "10015\n",
      "./HAM10000/HAM10000_images/ISIC_0030858.jpg\n",
      "0\n"
     ]
    }
   ],
   "source": [
    "#Save to folders\n",
    "images = []\n",
    "test_images = []\n",
    "pic_folder = './HAM10000/HAM10000_images/'\n",
    "for filename in os.listdir(pic_folder):\n",
    "    if filename.endswith('.jpg'):\n",
    "        images.append(pic_folder + filename)\n",
    "\n",
    "# readTrain = True\n",
    "# for filename in os.listdir('./skin-cancer-mnist-ham10000/HAM10000_images_part_2/'):\n",
    "#     if len(images) == 11000:\n",
    "#         readTrain = False\n",
    "#     if filename.endswith('.jpg') and readTrain:\n",
    "#         images.append('./skin-cancer-mnist-ham10000/HAM10000_images_part_2/' + filename)\n",
    "#     elif filename.endswith('.jpg') and not readTrain:\n",
    "#         test_images.append('./skin-cancer-mnist-ham10000/HAM10000_images_part_2/' + filename)\n",
    "    \n",
    "print(len(images))\n",
    "print(images[0])\n",
    "print(len(test_images))"
   ]
  },
  {
   "cell_type": "code",
   "execution_count": 3,
   "metadata": {},
   "outputs": [
    {
     "data": {
      "text/plain": [
       "(450, 600, 3)"
      ]
     },
     "execution_count": 3,
     "metadata": {},
     "output_type": "execute_result"
    }
   ],
   "source": [
    "io.imread(images[0]).shape"
   ]
  },
  {
   "cell_type": "code",
   "execution_count": 4,
   "metadata": {},
   "outputs": [],
   "source": [
    "img_mx = np.zeros((10015,450,600,3), dtype = int)"
   ]
  },
  {
   "cell_type": "code",
   "execution_count": 5,
   "metadata": {},
   "outputs": [],
   "source": [
    "for i in range(len(images)):\n",
    "    img_mx[i] = io.imread(images[i])"
   ]
  },
  {
   "cell_type": "code",
   "execution_count": 6,
   "metadata": {},
   "outputs": [],
   "source": [
    "img_mx = img_mx.astype(int)"
   ]
  },
  {
   "cell_type": "code",
   "execution_count": 7,
   "metadata": {},
   "outputs": [],
   "source": [
    "np.save(\"original\", img_mx)"
   ]
  },
  {
   "cell_type": "code",
   "execution_count": 8,
   "metadata": {},
   "outputs": [],
   "source": [
    "#resizing images and saving to folder\n",
    "def resize_image_and_save(path, dstFolder, image_size):\n",
    "    \n",
    "    #grabs path of image\n",
    "    image = io.imread(path)\n",
    "    \n",
    "    #resize image\n",
    "    image_resized = resize(image, (image_size, image_size))    \n",
    "    \n",
    "    #saves all files\n",
    "    filename = path.split('/')[len(path.split('/'))-1]\n",
    "    \n",
    "    #save resized\n",
    "    image_resized = 255 * image_resized\n",
    "    image_resized = image_resized.astype(np.uint8)\n",
    "    io.imsave(dstFolder + '/' + filename, image_resized)"
   ]
  },
  {
   "cell_type": "code",
   "execution_count": 9,
   "metadata": {},
   "outputs": [],
   "source": [
    "#same as function from above, but now rotating\n",
    "def rotate_image_and_save(path, angle, image_size, dstFolder):\n",
    "    \n",
    "    #grabs path of image\n",
    "    image = io.imread(path)\n",
    "    \n",
    "    #resize image\n",
    "    image_rotated = rotate(image, angle, reshape = True)\n",
    "    \n",
    "    #rotate twice and save these rotations\n",
    "    image_rotated_resized = resize(image_rotated, (image_size, image_size))\n",
    "    \n",
    "    #saves all files\n",
    "    filename = path.split('/')[len(path.split('/'))-1]\n",
    "    \n",
    "    #save resized\n",
    "    image_rotated_resized = (255 * image_rotated_resized).astype(np.uint8)\n",
    "    io.imsave(dstFolder + '/rotation' + str(angle) + filename, \n",
    "              image_rotated_resized)"
   ]
  },
  {
   "cell_type": "code",
   "execution_count": 12,
   "metadata": {},
   "outputs": [],
   "source": [
    "import warnings\n",
    "warnings.filterwarnings(\"once\")"
   ]
  },
  {
   "cell_type": "code",
   "execution_count": 50,
   "metadata": {
    "scrolled": true
   },
   "outputs": [
    {
     "name": "stderr",
     "output_type": "stream",
     "text": [
      "/anaconda3/lib/python3.6/site-packages/skimage/io/_io.py:141: UserWarning: HAM10000/all_data/ISIC_0024337.jpg is a low contrast image\n",
      "  warn('%s is a low contrast image' % fname)\n",
      "/anaconda3/lib/python3.6/site-packages/skimage/io/_io.py:141: UserWarning: HAM10000/all_data/ISIC_0027181.jpg is a low contrast image\n",
      "  warn('%s is a low contrast image' % fname)\n",
      "/anaconda3/lib/python3.6/site-packages/skimage/io/_io.py:141: UserWarning: HAM10000/all_data/ISIC_0029150.jpg is a low contrast image\n",
      "  warn('%s is a low contrast image' % fname)\n",
      "/anaconda3/lib/python3.6/site-packages/skimage/io/_io.py:141: UserWarning: HAM10000/all_data/ISIC_0032170.jpg is a low contrast image\n",
      "  warn('%s is a low contrast image' % fname)\n",
      "/anaconda3/lib/python3.6/site-packages/skimage/io/_io.py:141: UserWarning: HAM10000/all_data/ISIC_0026238.jpg is a low contrast image\n",
      "  warn('%s is a low contrast image' % fname)\n"
     ]
    }
   ],
   "source": [
    "# Generate All data folder and save images of 28x28\n",
    "dstPath = 'HAM10000/all_data'\n",
    "if not os.path.isdir(dstPath):\n",
    "        os.mkdir(dstPath)\n",
    "for file in images:\n",
    "    resize_image_and_save(file, dstPath, IMAGE_SIZE1)\n"
   ]
  },
  {
   "cell_type": "code",
   "execution_count": 57,
   "metadata": {},
   "outputs": [
    {
     "name": "stderr",
     "output_type": "stream",
     "text": [
      "/anaconda3/lib/python3.6/site-packages/skimage/io/_io.py:141: UserWarning: HAM10000/all_data/rotation90ISIC_0024337.jpg is a low contrast image\n",
      "  warn('%s is a low contrast image' % fname)\n",
      "/anaconda3/lib/python3.6/site-packages/skimage/io/_io.py:141: UserWarning: HAM10000/all_data/rotation90ISIC_0027181.jpg is a low contrast image\n",
      "  warn('%s is a low contrast image' % fname)\n",
      "/anaconda3/lib/python3.6/site-packages/skimage/io/_io.py:141: UserWarning: HAM10000/all_data/rotation90ISIC_0029150.jpg is a low contrast image\n",
      "  warn('%s is a low contrast image' % fname)\n",
      "/anaconda3/lib/python3.6/site-packages/skimage/io/_io.py:141: UserWarning: HAM10000/all_data/rotation90ISIC_0032170.jpg is a low contrast image\n",
      "  warn('%s is a low contrast image' % fname)\n",
      "/anaconda3/lib/python3.6/site-packages/skimage/io/_io.py:141: UserWarning: HAM10000/all_data/rotation90ISIC_0026238.jpg is a low contrast image\n",
      "  warn('%s is a low contrast image' % fname)\n"
     ]
    }
   ],
   "source": [
    "#save images for 28x28 size and rotate them\n",
    "\n",
    "for file in images:\n",
    "    rotate_image_and_save(file, angle1, IMAGE_SIZE1, dstPath)"
   ]
  },
  {
   "cell_type": "code",
   "execution_count": 59,
   "metadata": {},
   "outputs": [
    {
     "name": "stderr",
     "output_type": "stream",
     "text": [
      "/anaconda3/lib/python3.6/site-packages/skimage/io/_io.py:141: UserWarning: HAM10000/all_data/rotation180ISIC_0024337.jpg is a low contrast image\n",
      "  warn('%s is a low contrast image' % fname)\n",
      "/anaconda3/lib/python3.6/site-packages/skimage/io/_io.py:141: UserWarning: HAM10000/all_data/rotation180ISIC_0027181.jpg is a low contrast image\n",
      "  warn('%s is a low contrast image' % fname)\n",
      "/anaconda3/lib/python3.6/site-packages/skimage/io/_io.py:141: UserWarning: HAM10000/all_data/rotation180ISIC_0029150.jpg is a low contrast image\n",
      "  warn('%s is a low contrast image' % fname)\n",
      "/anaconda3/lib/python3.6/site-packages/skimage/io/_io.py:141: UserWarning: HAM10000/all_data/rotation180ISIC_0032170.jpg is a low contrast image\n",
      "  warn('%s is a low contrast image' % fname)\n",
      "/anaconda3/lib/python3.6/site-packages/skimage/io/_io.py:141: UserWarning: HAM10000/all_data/rotation180ISIC_0032249.jpg is a low contrast image\n",
      "  warn('%s is a low contrast image' % fname)\n",
      "/anaconda3/lib/python3.6/site-packages/skimage/io/_io.py:141: UserWarning: HAM10000/all_data/rotation180ISIC_0026238.jpg is a low contrast image\n",
      "  warn('%s is a low contrast image' % fname)\n"
     ]
    }
   ],
   "source": [
    "for file in images:\n",
    "    rotate_image_and_save(file, angle2, IMAGE_SIZE1, dstPath)"
   ]
  },
  {
   "cell_type": "code",
   "execution_count": 60,
   "metadata": {},
   "outputs": [
    {
     "name": "stderr",
     "output_type": "stream",
     "text": [
      "/anaconda3/lib/python3.6/site-packages/skimage/io/_io.py:141: UserWarning: HAM10000/all_data/rotation270ISIC_0024337.jpg is a low contrast image\n",
      "  warn('%s is a low contrast image' % fname)\n",
      "/anaconda3/lib/python3.6/site-packages/skimage/io/_io.py:141: UserWarning: HAM10000/all_data/rotation270ISIC_0027181.jpg is a low contrast image\n",
      "  warn('%s is a low contrast image' % fname)\n",
      "/anaconda3/lib/python3.6/site-packages/skimage/io/_io.py:141: UserWarning: HAM10000/all_data/rotation270ISIC_0029150.jpg is a low contrast image\n",
      "  warn('%s is a low contrast image' % fname)\n",
      "/anaconda3/lib/python3.6/site-packages/skimage/io/_io.py:141: UserWarning: HAM10000/all_data/rotation270ISIC_0032170.jpg is a low contrast image\n",
      "  warn('%s is a low contrast image' % fname)\n",
      "/anaconda3/lib/python3.6/site-packages/skimage/io/_io.py:141: UserWarning: HAM10000/all_data/rotation270ISIC_0026238.jpg is a low contrast image\n",
      "  warn('%s is a low contrast image' % fname)\n"
     ]
    }
   ],
   "source": [
    "for file in images:\n",
    "    rotate_image_and_save(file, angle3, IMAGE_SIZE1, dstPath)"
   ]
  },
  {
   "cell_type": "code",
   "execution_count": null,
   "metadata": {},
   "outputs": [],
   "source": []
  },
  {
   "cell_type": "code",
   "execution_count": 16,
   "metadata": {},
   "outputs": [],
   "source": [
    "os.mkdir('all_data_128')"
   ]
  },
  {
   "cell_type": "code",
   "execution_count": null,
   "metadata": {},
   "outputs": [],
   "source": [
    "#rotate for different image sizes"
   ]
  },
  {
   "cell_type": "code",
   "execution_count": 17,
   "metadata": {},
   "outputs": [
    {
     "name": "stderr",
     "output_type": "stream",
     "text": [
      "/anaconda3/lib/python3.6/site-packages/skimage/io/_io.py:141: UserWarning: all_data_128/ISIC_0024337.jpg is a low contrast image\n",
      "  warn('%s is a low contrast image' % fname)\n",
      "/anaconda3/lib/python3.6/site-packages/skimage/io/_io.py:141: UserWarning: all_data_128/ISIC_0029150.jpg is a low contrast image\n",
      "  warn('%s is a low contrast image' % fname)\n",
      "/anaconda3/lib/python3.6/site-packages/skimage/io/_io.py:141: UserWarning: all_data_128/ISIC_0032170.jpg is a low contrast image\n",
      "  warn('%s is a low contrast image' % fname)\n"
     ]
    }
   ],
   "source": [
    "for file in images:\n",
    "    resize_image_and_save(file, 'all_data_128', IMAGE_SIZE2)"
   ]
  },
  {
   "cell_type": "code",
   "execution_count": 18,
   "metadata": {},
   "outputs": [
    {
     "name": "stderr",
     "output_type": "stream",
     "text": [
      "/anaconda3/lib/python3.6/site-packages/skimage/io/_io.py:141: UserWarning: all_data_128/rotation90ISIC_0032170.jpg is a low contrast image\n",
      "  warn('%s is a low contrast image' % fname)\n"
     ]
    }
   ],
   "source": [
    "for file in images:\n",
    "    rotate_image_and_save(file, angle1, IMAGE_SIZE2, 'all_data_128')"
   ]
  },
  {
   "cell_type": "code",
   "execution_count": 19,
   "metadata": {},
   "outputs": [
    {
     "name": "stderr",
     "output_type": "stream",
     "text": [
      "/anaconda3/lib/python3.6/site-packages/skimage/io/_io.py:141: UserWarning: all_data_128/rotation180ISIC_0032170.jpg is a low contrast image\n",
      "  warn('%s is a low contrast image' % fname)\n"
     ]
    }
   ],
   "source": [
    "for file in images:\n",
    "    rotate_image_and_save(file, angle2, IMAGE_SIZE2, 'all_data_128')"
   ]
  },
  {
   "cell_type": "code",
   "execution_count": 20,
   "metadata": {},
   "outputs": [
    {
     "name": "stderr",
     "output_type": "stream",
     "text": [
      "/anaconda3/lib/python3.6/site-packages/skimage/io/_io.py:141: UserWarning: all_data_128/rotation270ISIC_0032170.jpg is a low contrast image\n",
      "  warn('%s is a low contrast image' % fname)\n"
     ]
    }
   ],
   "source": [
    "for file in images:\n",
    "    rotate_image_and_save(file, angle3, IMAGE_SIZE2, 'all_data_128')"
   ]
  },
  {
   "cell_type": "code",
   "execution_count": null,
   "metadata": {},
   "outputs": [],
   "source": []
  }
 ],
 "metadata": {
  "kernelspec": {
   "display_name": "Python 3",
   "language": "python",
   "name": "python3"
  },
  "language_info": {
   "codemirror_mode": {
    "name": "ipython",
    "version": 3
   },
   "file_extension": ".py",
   "mimetype": "text/x-python",
   "name": "python",
   "nbconvert_exporter": "python",
   "pygments_lexer": "ipython3",
   "version": "3.6.5"
  }
 },
 "nbformat": 4,
 "nbformat_minor": 2
}
