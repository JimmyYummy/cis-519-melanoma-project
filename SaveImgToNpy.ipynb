{
 "cells": [
  {
   "cell_type": "code",
   "execution_count": 1,
   "metadata": {},
   "outputs": [
    {
     "name": "stderr",
     "output_type": "stream",
     "text": [
      "/anaconda3/lib/python3.6/site-packages/h5py/__init__.py:36: FutureWarning: Conversion of the second argument of issubdtype from `float` to `np.floating` is deprecated. In future, it will be treated as `np.float64 == np.dtype(float).type`.\n",
      "  from ._conv import register_converters as _register_converters\n"
     ]
    }
   ],
   "source": [
    "# It will save them in the /train subfolder\n",
    "\n",
    "#!pip install scikit-image\n",
    "import os\n",
    "import matplotlib.pyplot as plt\n",
    "import tensorflow as tf\n",
    "import random\n",
    "from scipy.ndimage import rotate\n",
    "import numpy as np\n",
    "\n",
    "from skimage import io\n",
    "from skimage.transform import rescale, resize, downscale_local_mean\n",
    "\n",
    "IMAGE_SIZE1 = 28 # parameter: change this to change downsample size of image\n",
    "IMAGE_SIZE2 = 128 # parameter: change this to change downsample size of image\n",
    "angle1 = 90\n",
    "angle2 = 180\n",
    "angle3 = 270"
   ]
  },
  {
   "cell_type": "code",
   "execution_count": 2,
   "metadata": {},
   "outputs": [
    {
     "name": "stdout",
     "output_type": "stream",
     "text": [
      "10015\n",
      "./RazoredHAM10000/ISIC_0030858.jpg\n",
      "0\n"
     ]
    }
   ],
   "source": [
    "#Save to folders\n",
    "images = []\n",
    "test_images = []\n",
    "pic_folder = './RazoredHAM10000/'\n",
    "for filename in os.listdir(pic_folder):\n",
    "    if filename.endswith('.jpg'):\n",
    "        images.append(pic_folder + filename)\n",
    "\n",
    "# readTrain = True\n",
    "# for filename in os.listdir('./skin-cancer-mnist-ham10000/HAM10000_images_part_2/'):\n",
    "#     if len(images) == 11000:\n",
    "#         readTrain = False\n",
    "#     if filename.endswith('.jpg') and readTrain:\n",
    "#         images.append('./skin-cancer-mnist-ham10000/HAM10000_images_part_2/' + filename)\n",
    "#     elif filename.endswith('.jpg') and not readTrain:\n",
    "#         test_images.append('./skin-cancer-mnist-ham10000/HAM10000_images_part_2/' + filename)\n",
    "    \n",
    "print(len(images))\n",
    "print(images[0])\n",
    "print(len(test_images))"
   ]
  },
  {
   "cell_type": "code",
   "execution_count": 3,
   "metadata": {},
   "outputs": [
    {
     "data": {
      "text/plain": [
       "(450, 600, 3)"
      ]
     },
     "execution_count": 3,
     "metadata": {},
     "output_type": "execute_result"
    }
   ],
   "source": [
    "io.imread(images[0]).shape"
   ]
  },
  {
   "cell_type": "code",
   "execution_count": 4,
   "metadata": {},
   "outputs": [],
   "source": [
    "img_mx = np.zeros((10015,450,600,3), dtype = int)"
   ]
  },
  {
   "cell_type": "code",
   "execution_count": null,
   "metadata": {},
   "outputs": [],
   "source": [
    "for i in range(len(images)):\n",
    "    img_mx[i] = io.imread(images[i])"
   ]
  },
  {
   "cell_type": "code",
   "execution_count": null,
   "metadata": {},
   "outputs": [],
   "source": [
    "plt.imshow(img_mx[2345])"
   ]
  },
  {
   "cell_type": "code",
   "execution_count": null,
   "metadata": {},
   "outputs": [],
   "source": [
    "np.save(\"razored\", img_mx)"
   ]
  }
 ],
 "metadata": {
  "kernelspec": {
   "display_name": "Python 3",
   "language": "python",
   "name": "python3"
  },
  "language_info": {
   "codemirror_mode": {
    "name": "ipython",
    "version": 3
   },
   "file_extension": ".py",
   "mimetype": "text/x-python",
   "name": "python",
   "nbconvert_exporter": "python",
   "pygments_lexer": "ipython3",
   "version": "3.6.5"
  }
 },
 "nbformat": 4,
 "nbformat_minor": 2
}
