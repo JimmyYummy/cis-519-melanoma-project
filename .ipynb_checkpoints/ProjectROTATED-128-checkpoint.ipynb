{
 "cells": [
  {
   "cell_type": "markdown",
   "metadata": {},
   "source": [
    "This notebook reads the images generated from ProcessImagesROTATED notebook \n",
    "into train and test datasets. Then it runs a CNN model with these images."
   ]
  },
  {
   "cell_type": "code",
   "execution_count": 1,
   "metadata": {},
   "outputs": [
    {
     "name": "stderr",
     "output_type": "stream",
     "text": [
      "/anaconda3/lib/python3.6/site-packages/h5py/__init__.py:36: FutureWarning: Conversion of the second argument of issubdtype from `float` to `np.floating` is deprecated. In future, it will be treated as `np.float64 == np.dtype(float).type`.\n",
      "  from ._conv import register_converters as _register_converters\n"
     ]
    }
   ],
   "source": [
    "'''importing packages'''\n",
    "import numpy as np\n",
    "import pandas as pd\n",
    "import tensorflow as tf\n",
    "import matplotlib.pyplot as plt\n",
    "import os\n",
    "from skimage import io"
   ]
  },
  {
   "cell_type": "code",
   "execution_count": 2,
   "metadata": {},
   "outputs": [],
   "source": [
    "'''parameters to run model more efficiently'''\n",
    "IMAGE_SIZE = 28\n",
    "\n",
    "#this defines if we treat the data upsampled or not\n",
    "\n",
    "#if upsample, multiplies rotated images and tests on normal initial dataset (separated)\n",
    "sample_of_choice = \"upsample\"\n",
    "\n",
    "#if normal, uses the 40,060 images without further manipulation\n",
    "#sample_of_choice = \"normal\"\n"
   ]
  },
  {
   "cell_type": "code",
   "execution_count": 3,
   "metadata": {},
   "outputs": [
    {
     "ename": "FileNotFoundError",
     "evalue": "[Errno 2] File b'./skin-cancer-mnist-ham10000/HAM10000_metadata.csv' does not exist: b'./skin-cancer-mnist-ham10000/HAM10000_metadata.csv'",
     "output_type": "error",
     "traceback": [
      "\u001b[0;31m---------------------------------------------------------------------------\u001b[0m",
      "\u001b[0;31mFileNotFoundError\u001b[0m                         Traceback (most recent call last)",
      "\u001b[0;32m<ipython-input-3-5220cee7ba75>\u001b[0m in \u001b[0;36m<module>\u001b[0;34m()\u001b[0m\n\u001b[1;32m      1\u001b[0m \u001b[0;31m#define file\u001b[0m\u001b[0;34m\u001b[0m\u001b[0;34m\u001b[0m\u001b[0m\n\u001b[0;32m----> 2\u001b[0;31m \u001b[0mmeta_pd\u001b[0m \u001b[0;34m=\u001b[0m \u001b[0mpd\u001b[0m\u001b[0;34m.\u001b[0m\u001b[0mread_csv\u001b[0m\u001b[0;34m(\u001b[0m\u001b[0;34m'./skin-cancer-mnist-ham10000/HAM10000_metadata.csv'\u001b[0m\u001b[0;34m)\u001b[0m\u001b[0;34m\u001b[0m\u001b[0m\n\u001b[0m\u001b[1;32m      3\u001b[0m \u001b[0;31m#sanity check\u001b[0m\u001b[0;34m\u001b[0m\u001b[0;34m\u001b[0m\u001b[0m\n\u001b[1;32m      4\u001b[0m \u001b[0mmeta_pd\u001b[0m\u001b[0;34m[\u001b[0m\u001b[0mmeta_pd\u001b[0m\u001b[0;34m[\u001b[0m\u001b[0;34m\"dx\"\u001b[0m\u001b[0;34m]\u001b[0m\u001b[0;34m==\u001b[0m\u001b[0;34m\"nv\"\u001b[0m\u001b[0;34m]\u001b[0m\u001b[0;34m.\u001b[0m\u001b[0mcount\u001b[0m\u001b[0;34m(\u001b[0m\u001b[0;34m)\u001b[0m\u001b[0;34m\u001b[0m\u001b[0m\n",
      "\u001b[0;32m/anaconda3/lib/python3.6/site-packages/pandas/io/parsers.py\u001b[0m in \u001b[0;36mparser_f\u001b[0;34m(filepath_or_buffer, sep, delimiter, header, names, index_col, usecols, squeeze, prefix, mangle_dupe_cols, dtype, engine, converters, true_values, false_values, skipinitialspace, skiprows, skipfooter, nrows, na_values, keep_default_na, na_filter, verbose, skip_blank_lines, parse_dates, infer_datetime_format, keep_date_col, date_parser, dayfirst, iterator, chunksize, compression, thousands, decimal, lineterminator, quotechar, quoting, doublequote, escapechar, comment, encoding, dialect, tupleize_cols, error_bad_lines, warn_bad_lines, delim_whitespace, low_memory, memory_map, float_precision)\u001b[0m\n\u001b[1;32m    700\u001b[0m                     skip_blank_lines=skip_blank_lines)\n\u001b[1;32m    701\u001b[0m \u001b[0;34m\u001b[0m\u001b[0m\n\u001b[0;32m--> 702\u001b[0;31m         \u001b[0;32mreturn\u001b[0m \u001b[0m_read\u001b[0m\u001b[0;34m(\u001b[0m\u001b[0mfilepath_or_buffer\u001b[0m\u001b[0;34m,\u001b[0m \u001b[0mkwds\u001b[0m\u001b[0;34m)\u001b[0m\u001b[0;34m\u001b[0m\u001b[0m\n\u001b[0m\u001b[1;32m    703\u001b[0m \u001b[0;34m\u001b[0m\u001b[0m\n\u001b[1;32m    704\u001b[0m     \u001b[0mparser_f\u001b[0m\u001b[0;34m.\u001b[0m\u001b[0m__name__\u001b[0m \u001b[0;34m=\u001b[0m \u001b[0mname\u001b[0m\u001b[0;34m\u001b[0m\u001b[0m\n",
      "\u001b[0;32m/anaconda3/lib/python3.6/site-packages/pandas/io/parsers.py\u001b[0m in \u001b[0;36m_read\u001b[0;34m(filepath_or_buffer, kwds)\u001b[0m\n\u001b[1;32m    427\u001b[0m \u001b[0;34m\u001b[0m\u001b[0m\n\u001b[1;32m    428\u001b[0m     \u001b[0;31m# Create the parser.\u001b[0m\u001b[0;34m\u001b[0m\u001b[0;34m\u001b[0m\u001b[0m\n\u001b[0;32m--> 429\u001b[0;31m     \u001b[0mparser\u001b[0m \u001b[0;34m=\u001b[0m \u001b[0mTextFileReader\u001b[0m\u001b[0;34m(\u001b[0m\u001b[0mfilepath_or_buffer\u001b[0m\u001b[0;34m,\u001b[0m \u001b[0;34m**\u001b[0m\u001b[0mkwds\u001b[0m\u001b[0;34m)\u001b[0m\u001b[0;34m\u001b[0m\u001b[0m\n\u001b[0m\u001b[1;32m    430\u001b[0m \u001b[0;34m\u001b[0m\u001b[0m\n\u001b[1;32m    431\u001b[0m     \u001b[0;32mif\u001b[0m \u001b[0mchunksize\u001b[0m \u001b[0;32mor\u001b[0m \u001b[0miterator\u001b[0m\u001b[0;34m:\u001b[0m\u001b[0;34m\u001b[0m\u001b[0m\n",
      "\u001b[0;32m/anaconda3/lib/python3.6/site-packages/pandas/io/parsers.py\u001b[0m in \u001b[0;36m__init__\u001b[0;34m(self, f, engine, **kwds)\u001b[0m\n\u001b[1;32m    893\u001b[0m             \u001b[0mself\u001b[0m\u001b[0;34m.\u001b[0m\u001b[0moptions\u001b[0m\u001b[0;34m[\u001b[0m\u001b[0;34m'has_index_names'\u001b[0m\u001b[0;34m]\u001b[0m \u001b[0;34m=\u001b[0m \u001b[0mkwds\u001b[0m\u001b[0;34m[\u001b[0m\u001b[0;34m'has_index_names'\u001b[0m\u001b[0;34m]\u001b[0m\u001b[0;34m\u001b[0m\u001b[0m\n\u001b[1;32m    894\u001b[0m \u001b[0;34m\u001b[0m\u001b[0m\n\u001b[0;32m--> 895\u001b[0;31m         \u001b[0mself\u001b[0m\u001b[0;34m.\u001b[0m\u001b[0m_make_engine\u001b[0m\u001b[0;34m(\u001b[0m\u001b[0mself\u001b[0m\u001b[0;34m.\u001b[0m\u001b[0mengine\u001b[0m\u001b[0;34m)\u001b[0m\u001b[0;34m\u001b[0m\u001b[0m\n\u001b[0m\u001b[1;32m    896\u001b[0m \u001b[0;34m\u001b[0m\u001b[0m\n\u001b[1;32m    897\u001b[0m     \u001b[0;32mdef\u001b[0m \u001b[0mclose\u001b[0m\u001b[0;34m(\u001b[0m\u001b[0mself\u001b[0m\u001b[0;34m)\u001b[0m\u001b[0;34m:\u001b[0m\u001b[0;34m\u001b[0m\u001b[0m\n",
      "\u001b[0;32m/anaconda3/lib/python3.6/site-packages/pandas/io/parsers.py\u001b[0m in \u001b[0;36m_make_engine\u001b[0;34m(self, engine)\u001b[0m\n\u001b[1;32m   1120\u001b[0m     \u001b[0;32mdef\u001b[0m \u001b[0m_make_engine\u001b[0m\u001b[0;34m(\u001b[0m\u001b[0mself\u001b[0m\u001b[0;34m,\u001b[0m \u001b[0mengine\u001b[0m\u001b[0;34m=\u001b[0m\u001b[0;34m'c'\u001b[0m\u001b[0;34m)\u001b[0m\u001b[0;34m:\u001b[0m\u001b[0;34m\u001b[0m\u001b[0m\n\u001b[1;32m   1121\u001b[0m         \u001b[0;32mif\u001b[0m \u001b[0mengine\u001b[0m \u001b[0;34m==\u001b[0m \u001b[0;34m'c'\u001b[0m\u001b[0;34m:\u001b[0m\u001b[0;34m\u001b[0m\u001b[0m\n\u001b[0;32m-> 1122\u001b[0;31m             \u001b[0mself\u001b[0m\u001b[0;34m.\u001b[0m\u001b[0m_engine\u001b[0m \u001b[0;34m=\u001b[0m \u001b[0mCParserWrapper\u001b[0m\u001b[0;34m(\u001b[0m\u001b[0mself\u001b[0m\u001b[0;34m.\u001b[0m\u001b[0mf\u001b[0m\u001b[0;34m,\u001b[0m \u001b[0;34m**\u001b[0m\u001b[0mself\u001b[0m\u001b[0;34m.\u001b[0m\u001b[0moptions\u001b[0m\u001b[0;34m)\u001b[0m\u001b[0;34m\u001b[0m\u001b[0m\n\u001b[0m\u001b[1;32m   1123\u001b[0m         \u001b[0;32melse\u001b[0m\u001b[0;34m:\u001b[0m\u001b[0;34m\u001b[0m\u001b[0m\n\u001b[1;32m   1124\u001b[0m             \u001b[0;32mif\u001b[0m \u001b[0mengine\u001b[0m \u001b[0;34m==\u001b[0m \u001b[0;34m'python'\u001b[0m\u001b[0;34m:\u001b[0m\u001b[0;34m\u001b[0m\u001b[0m\n",
      "\u001b[0;32m/anaconda3/lib/python3.6/site-packages/pandas/io/parsers.py\u001b[0m in \u001b[0;36m__init__\u001b[0;34m(self, src, **kwds)\u001b[0m\n\u001b[1;32m   1851\u001b[0m         \u001b[0mkwds\u001b[0m\u001b[0;34m[\u001b[0m\u001b[0;34m'usecols'\u001b[0m\u001b[0;34m]\u001b[0m \u001b[0;34m=\u001b[0m \u001b[0mself\u001b[0m\u001b[0;34m.\u001b[0m\u001b[0musecols\u001b[0m\u001b[0;34m\u001b[0m\u001b[0m\n\u001b[1;32m   1852\u001b[0m \u001b[0;34m\u001b[0m\u001b[0m\n\u001b[0;32m-> 1853\u001b[0;31m         \u001b[0mself\u001b[0m\u001b[0;34m.\u001b[0m\u001b[0m_reader\u001b[0m \u001b[0;34m=\u001b[0m \u001b[0mparsers\u001b[0m\u001b[0;34m.\u001b[0m\u001b[0mTextReader\u001b[0m\u001b[0;34m(\u001b[0m\u001b[0msrc\u001b[0m\u001b[0;34m,\u001b[0m \u001b[0;34m**\u001b[0m\u001b[0mkwds\u001b[0m\u001b[0;34m)\u001b[0m\u001b[0;34m\u001b[0m\u001b[0m\n\u001b[0m\u001b[1;32m   1854\u001b[0m         \u001b[0mself\u001b[0m\u001b[0;34m.\u001b[0m\u001b[0munnamed_cols\u001b[0m \u001b[0;34m=\u001b[0m \u001b[0mself\u001b[0m\u001b[0;34m.\u001b[0m\u001b[0m_reader\u001b[0m\u001b[0;34m.\u001b[0m\u001b[0munnamed_cols\u001b[0m\u001b[0;34m\u001b[0m\u001b[0m\n\u001b[1;32m   1855\u001b[0m \u001b[0;34m\u001b[0m\u001b[0m\n",
      "\u001b[0;32mpandas/_libs/parsers.pyx\u001b[0m in \u001b[0;36mpandas._libs.parsers.TextReader.__cinit__\u001b[0;34m()\u001b[0m\n",
      "\u001b[0;32mpandas/_libs/parsers.pyx\u001b[0m in \u001b[0;36mpandas._libs.parsers.TextReader._setup_parser_source\u001b[0;34m()\u001b[0m\n",
      "\u001b[0;31mFileNotFoundError\u001b[0m: [Errno 2] File b'./skin-cancer-mnist-ham10000/HAM10000_metadata.csv' does not exist: b'./skin-cancer-mnist-ham10000/HAM10000_metadata.csv'"
     ]
    }
   ],
   "source": [
    "#define file\n",
    "meta_pd = pd.read_csv('./skin-cancer-mnist-ham10000/HAM10000_metadata.csv')\n",
    "#sanity check\n",
    "meta_pd[meta_pd[\"dx\"]==\"nv\"].count()"
   ]
  },
  {
   "cell_type": "code",
   "execution_count": 150,
   "metadata": {},
   "outputs": [
    {
     "name": "stdout",
     "output_type": "stream",
     "text": [
      "lesion_id        HAM_0001186\n",
      "image_id        ISIC_0033391\n",
      "dx                       bkl\n",
      "dx_type            consensus\n",
      "age                      NaN\n",
      "sex                  unknown\n",
      "localization         unknown\n",
      "Name: 968, dtype: object\n"
     ]
    }
   ],
   "source": [
    "# Checking null values\n",
    "no_label = meta_pd[meta_pd['dx'] == float('NaN')]\n",
    "#no_label\n",
    "zeros = pd.DataFrame(meta_pd.isnull().sum(axis=1)) # All columns should be 0\n",
    "zeros = zeros[zeros[0] != 0]\n",
    "zeros\n",
    "\n",
    "print(meta_pd.iloc[968])"
   ]
  },
  {
   "cell_type": "code",
   "execution_count": 151,
   "metadata": {},
   "outputs": [],
   "source": [
    "'''Extract data from folders'''\n",
    "\n",
    "def extract_data(folderName):\n",
    "    \n",
    "    num_images = len(\n",
    "        [name for name in os.listdir('./skin-cancer-mnist-ham10000/' + folderName) \n",
    "         if os.path.isfile(os.path.join('./skin-cancer-mnist-ham10000/' + folderName, name))\n",
    "        ])\n",
    "    print(num_images)\n",
    "    data = np.zeros(shape=(num_images,IMAGE_SIZE, IMAGE_SIZE, 3), dtype=np.int32) # not sure if int32 is good\n",
    "    count = 0\n",
    "    for filename in os.listdir('./skin-cancer-mnist-ham10000/' + folderName):\n",
    "        image = io.imread('./skin-cancer-mnist-ham10000/' + folderName + '/' + filename)\n",
    "        data[count] = image\n",
    "        count = count + 1\n",
    "    print(count)\n",
    "    return data    "
   ]
  },
  {
   "cell_type": "code",
   "execution_count": 152,
   "metadata": {},
   "outputs": [
    {
     "name": "stdout",
     "output_type": "stream",
     "text": [
      "40060\n",
      "40060\n",
      "(40060, 28, 28, 3)\n",
      "<class 'numpy.ndarray'>\n"
     ]
    }
   ],
   "source": [
    "all_data = extract_data('all_data') #change for all_data_128 if want more detailed images\n",
    "print(all_data.shape)\n",
    "print(type(all_data))"
   ]
  },
  {
   "cell_type": "code",
   "execution_count": 153,
   "metadata": {},
   "outputs": [
    {
     "data": {
      "image/png": "[encoded data removed]",
      "text/plain": [
       "<Figure size 432x288 with 2 Axes>"
      ]
     },
     "metadata": {},
     "output_type": "display_data"
    }
   ],
   "source": [
    "# Heath Check to See if we read the train data properly\n",
    "\n",
    "fig, axes = plt.subplots(nrows = 1, ncols = 2)\n",
    "\n",
    "ax = axes.ravel()\n",
    "\n",
    "ax[0].set_title(\"First Image\")\n",
    "ax[0].imshow(all_data[0])\n",
    "\n",
    "ax[1].set_title(\"Second Image\")\n",
    "ax[1].imshow(all_data[10])\n",
    "\n",
    "plt.tight_layout()\n",
    "plt.show()"
   ]
  },
  {
   "cell_type": "code",
   "execution_count": 154,
   "metadata": {},
   "outputs": [
    {
     "data": {
      "image/png": "[encoded data removed]",
      "text/plain": [
       "<Figure size 432x288 with 4 Axes>"
      ]
     },
     "metadata": {},
     "output_type": "display_data"
    }
   ],
   "source": [
    "# Heath Check to See if we read the train data properly\n",
    "\n",
    "fig, axes = plt.subplots(nrows = 2, ncols = 2)\n",
    "\n",
    "ax = axes.ravel()\n",
    "\n",
    "ax[0].set_title(\"Original Image\")\n",
    "ax[0].imshow(all_data[0])\n",
    "\n",
    "ax[1].set_title(\"First Rotation\")\n",
    "ax[1].imshow(all_data[10015])\n",
    "\n",
    "ax[2].set_title(\"Second Rotation\")\n",
    "ax[2].imshow(all_data[10015*2])\n",
    "\n",
    "ax[3].set_title(\"Third Rotation\")\n",
    "ax[3].imshow(all_data[10015*3])\n",
    "\n",
    "\n",
    "\n",
    "plt.tight_layout()\n",
    "plt.show()"
   ]
  },
  {
   "cell_type": "code",
   "execution_count": 155,
   "metadata": {},
   "outputs": [
    {
     "name": "stdout",
     "output_type": "stream",
     "text": [
      "all labels one hot shape\n",
      "(40060, 7)\n",
      "[[0. 0. 1. 0. 0. 0. 0.]\n",
      " [0. 0. 1. 0. 0. 0. 0.]\n",
      " [0. 0. 1. 0. 0. 0. 0.]\n",
      " [0. 0. 1. 0. 0. 0. 0.]\n",
      " [0. 0. 1. 0. 0. 0. 0.]\n",
      " [0. 0. 1. 0. 0. 0. 0.]\n",
      " [0. 0. 1. 0. 0. 0. 0.]\n",
      " [0. 0. 1. 0. 0. 0. 0.]\n",
      " [0. 0. 1. 0. 0. 0. 0.]\n",
      " [0. 0. 1. 0. 0. 0. 0.]\n",
      " [0. 0. 1. 0. 0. 0. 0.]\n",
      " [0. 0. 1. 0. 0. 0. 0.]\n",
      " [0. 0. 1. 0. 0. 0. 0.]\n",
      " [0. 0. 1. 0. 0. 0. 0.]\n",
      " [0. 0. 1. 0. 0. 0. 0.]]\n"
     ]
    }
   ],
   "source": [
    "'''One hot encoding'''\n",
    "from sklearn.model_selection import train_test_split # used to shuffle\n",
    "\n",
    "# Converting labels as one hot encoding\n",
    "labels_one_hot = pd.get_dummies(meta_pd['dx']).values.astype(np.float32)\n",
    "\n",
    "#multiplying by 4\n",
    "all_labels_one_hot = np.concatenate((labels_one_hot, labels_one_hot, labels_one_hot, \n",
    "                                     labels_one_hot), axis=0)\n",
    "\n",
    "#all_labels_one_hot = labels_one_hot\n",
    "\n",
    "\n",
    "print(\"all labels one hot shape\")\n",
    "print(all_labels_one_hot.shape)\n",
    "print(all_labels_one_hot[:15])\n"
   ]
  },
  {
   "cell_type": "code",
   "execution_count": 156,
   "metadata": {},
   "outputs": [],
   "source": [
    "'''Function to extract data by type'''\n",
    "def extract_samples(data_matrix, labels_matrix):\n",
    "    akiec = []\n",
    "    bcc = []\n",
    "    bkl = []\n",
    "    df = []\n",
    "    mel = []\n",
    "    nv = []\n",
    "    vasc = []\n",
    "    \n",
    "    #saving images per type into a list\n",
    "    for i in range(0, len(data_matrix)):\n",
    "        if labels_matrix[i,0] == 1:\n",
    "            akiec.append(data_matrix[i])\n",
    "        elif labels_matrix[i,1] == 1:\n",
    "            bcc.append(data_matrix[i])\n",
    "        elif labels_matrix[i,2] == 1:\n",
    "            bkl.append(data_matrix[i])\n",
    "        elif labels_matrix[i,3] == 1:\n",
    "            df.append(data_matrix[i])\n",
    "        elif labels_matrix[i,4] == 1:\n",
    "            mel.append(data_matrix[i])\n",
    "        elif labels_matrix[i,5] == 1:\n",
    "            nv.append(data_matrix[i])\n",
    "        elif labels_matrix[i,6] == 1:\n",
    "            vasc.append(data_matrix[i])\n",
    "    \n",
    "    return akiec, bcc, bkl, df, mel, nv, vasc"
   ]
  },
  {
   "cell_type": "code",
   "execution_count": 157,
   "metadata": {},
   "outputs": [],
   "source": [
    "#extracting all data and labels rotating, but with not over or downsampling\n",
    "akiec, bcc, bkl, df, mel, nv, vasc = extract_samples(all_data, all_labels_one_hot)"
   ]
  },
  {
   "cell_type": "code",
   "execution_count": 158,
   "metadata": {},
   "outputs": [
    {
     "data": {
      "image/png": "[encoded data removed]",
      "text/plain": [
       "<Figure size 432x288 with 2 Axes>"
      ]
     },
     "metadata": {},
     "output_type": "display_data"
    }
   ],
   "source": [
    "#Sanity check looking at images\n",
    "\n",
    "# Heath Check to See if we read the train data properly\n",
    "\n",
    "fig, axes = plt.subplots(nrows = 1, ncols = 2)\n",
    "\n",
    "ax = axes.ravel()\n",
    "\n",
    "ax[0].set_title(\"First Image\")\n",
    "ax[0].imshow(akiec[10])\n",
    "\n",
    "ax[1].set_title(\"Second Image\")\n",
    "ax[1].imshow(bkl[100])\n",
    "\n",
    "plt.tight_layout()\n",
    "plt.show()"
   ]
  },
  {
   "cell_type": "code",
   "execution_count": 159,
   "metadata": {},
   "outputs": [],
   "source": [
    "#columns for one hot encoding\n",
    "cols = ['akiec', 'bcc', 'bkl', 'df', 'mel', 'nv', 'vasc']\n",
    "\n",
    "#creating the one label hot encoding for each of them\n",
    "\n",
    "#AKIEC\n",
    "akiec_labels = pd.DataFrame(index = range(len(akiec)),columns = cols)\n",
    "akiec_labels['akiec'] = akiec_labels['akiec'].fillna(value=1)\n",
    "akiec_labels = akiec_labels.fillna(value = 0)\n",
    "\n",
    "#BCC\n",
    "bcc_labels = pd.DataFrame(index = range(len(bcc)),columns = cols)\n",
    "bcc_labels['bcc'] = bcc_labels['bcc'].fillna(value=1)\n",
    "bcc_labels = bcc_labels.fillna(value = 0)\n",
    "\n",
    "#BKL\n",
    "bkl_labels = pd.DataFrame(index = range(len(bkl)),columns = cols)\n",
    "bkl_labels['bkl'] = bkl_labels['bkl'].fillna(value=1)\n",
    "bkl_labels = bkl_labels.fillna(value = 0)\n",
    "\n",
    "#DF\n",
    "df_labels = pd.DataFrame(index = range(len(df)),columns = cols)\n",
    "df_labels['df'] = df_labels['df'].fillna(value=1)\n",
    "df_labels = df_labels.fillna(value = 0)\n",
    "\n",
    "#MEL\n",
    "mel_labels = pd.DataFrame(index = range(len(mel)),columns = cols)\n",
    "mel_labels['mel'] = mel_labels['mel'].fillna(value=1)\n",
    "mel_labels = mel_labels.fillna(value = 0)\n",
    "\n",
    "#NV\n",
    "nv_labels = pd.DataFrame(index = range(len(nv)),columns = cols)\n",
    "nv_labels['nv'] = nv_labels['nv'].fillna(value=1)\n",
    "nv_labels = nv_labels.fillna(value = 0)\n",
    "\n",
    "#VASC\n",
    "vasc_labels = pd.DataFrame(index = range(len(vasc)),columns = cols)\n",
    "vasc_labels['vasc'] = vasc_labels['vasc'].fillna(value=1)\n",
    "vasc_labels = vasc_labels.fillna(value = 0)"
   ]
  },
  {
   "cell_type": "code",
   "execution_count": 160,
   "metadata": {},
   "outputs": [
    {
     "data": {
      "text/html": [
       "<div>\n",
       "<style scoped>\n",
       "    .dataframe tbody tr th:only-of-type {\n",
       "        vertical-align: middle;\n",
       "    }\n",
       "\n",
       "    .dataframe tbody tr th {\n",
       "        vertical-align: top;\n",
       "    }\n",
       "\n",
       "    .dataframe thead th {\n",
       "        text-align: right;\n",
       "    }\n",
       "</style>\n",
       "<table border=\"1\" class=\"dataframe\">\n",
       "  <thead>\n",
       "    <tr style=\"text-align: right;\">\n",
       "      <th></th>\n",
       "      <th>akiec</th>\n",
       "      <th>bcc</th>\n",
       "      <th>bkl</th>\n",
       "      <th>df</th>\n",
       "      <th>mel</th>\n",
       "      <th>nv</th>\n",
       "      <th>vasc</th>\n",
       "    </tr>\n",
       "  </thead>\n",
       "  <tbody>\n",
       "    <tr>\n",
       "      <th>0</th>\n",
       "      <td>1</td>\n",
       "      <td>0</td>\n",
       "      <td>0</td>\n",
       "      <td>0</td>\n",
       "      <td>0</td>\n",
       "      <td>0</td>\n",
       "      <td>0</td>\n",
       "    </tr>\n",
       "    <tr>\n",
       "      <th>1</th>\n",
       "      <td>1</td>\n",
       "      <td>0</td>\n",
       "      <td>0</td>\n",
       "      <td>0</td>\n",
       "      <td>0</td>\n",
       "      <td>0</td>\n",
       "      <td>0</td>\n",
       "    </tr>\n",
       "    <tr>\n",
       "      <th>2</th>\n",
       "      <td>1</td>\n",
       "      <td>0</td>\n",
       "      <td>0</td>\n",
       "      <td>0</td>\n",
       "      <td>0</td>\n",
       "      <td>0</td>\n",
       "      <td>0</td>\n",
       "    </tr>\n",
       "    <tr>\n",
       "      <th>3</th>\n",
       "      <td>1</td>\n",
       "      <td>0</td>\n",
       "      <td>0</td>\n",
       "      <td>0</td>\n",
       "      <td>0</td>\n",
       "      <td>0</td>\n",
       "      <td>0</td>\n",
       "    </tr>\n",
       "    <tr>\n",
       "      <th>4</th>\n",
       "      <td>1</td>\n",
       "      <td>0</td>\n",
       "      <td>0</td>\n",
       "      <td>0</td>\n",
       "      <td>0</td>\n",
       "      <td>0</td>\n",
       "      <td>0</td>\n",
       "    </tr>\n",
       "  </tbody>\n",
       "</table>\n",
       "</div>"
      ],
      "text/plain": [
       "   akiec  bcc  bkl  df  mel  nv  vasc\n",
       "0      1    0    0   0    0   0     0\n",
       "1      1    0    0   0    0   0     0\n",
       "2      1    0    0   0    0   0     0\n",
       "3      1    0    0   0    0   0     0\n",
       "4      1    0    0   0    0   0     0"
      ]
     },
     "execution_count": 160,
     "metadata": {},
     "output_type": "execute_result"
    }
   ],
   "source": [
    "akiec_labels.head()\n",
    "# bcc_labels.head()\n",
    "# bkl_labels.head()\n",
    "# df_labels.head()\n",
    "# mel_labels.head()\n",
    "# nv_labels.head()\n",
    "# vasc_labels.head()"
   ]
  },
  {
   "cell_type": "code",
   "execution_count": 161,
   "metadata": {},
   "outputs": [
    {
     "data": {
      "text/plain": [
       "(1308, 7)"
      ]
     },
     "execution_count": 161,
     "metadata": {},
     "output_type": "execute_result"
    }
   ],
   "source": [
    "akiec_labels.shape\n",
    "# bcc_labels.shape\n",
    "# bkl_labels.shape\n",
    "# df_labels.shape\n",
    "# mel_labels.shape\n",
    "# nv_labels.shape\n",
    "# vasc_labels.shape"
   ]
  },
  {
   "cell_type": "code",
   "execution_count": 164,
   "metadata": {},
   "outputs": [
    {
     "data": {
      "image/png": "[encoded data removed]",
      "text/plain": [
       "<Figure size 432x288 with 2 Axes>"
      ]
     },
     "metadata": {},
     "output_type": "display_data"
    }
   ],
   "source": [
    "#Sanity check looking at images\n",
    "\n",
    "# Heath Check to See if we read the train data properly\n",
    "\n",
    "fig, axes = plt.subplots(nrows = 1, ncols = 2)\n",
    "\n",
    "ax = axes.ravel()\n",
    "\n",
    "ax[0].set_title(\"First Image\")\n",
    "ax[0].imshow(akiec[10])\n",
    "\n",
    "ax[1].set_title(\"Second Image\")\n",
    "ax[1].imshow(bkl[100])\n",
    "\n",
    "plt.tight_layout()\n",
    "plt.show()"
   ]
  },
  {
   "cell_type": "code",
   "execution_count": 165,
   "metadata": {},
   "outputs": [],
   "source": [
    "#Creating Training Datasets\n",
    "test_size = 0.2\n",
    "train_size = 1-test_size\n",
    "\n",
    "#integers for slicing\n",
    "akiec_train_size = int(len(akiec)*train_size)\n",
    "bcc_train_size = int(len(bcc)*train_size)\n",
    "bkl_train_size = int(len(bkl)*train_size)\n",
    "df_train_size = int(len(df)*train_size)\n",
    "mel_train_size = int(len(mel)*train_size)\n",
    "nv_train_size = int(len(nv)*train_size)\n",
    "vasc_train_size = int(len(vasc)*train_size)\n",
    "\n",
    "#lists of training cancers and their dataframe labels\n",
    "akiec_train = akiec[0:akiec_train_size]\n",
    "akiec_train_labels = akiec_labels[0:akiec_train_size]\n",
    "\n",
    "\n",
    "bcc_train = bcc[0:bcc_train_size]\n",
    "bcc_train_labels = bcc_labels[0:bcc_train_size]\n",
    "\n",
    "bkl_train = bkl[0:bkl_train_size]\n",
    "bkl_train_labels = bkl_labels[0:bkl_train_size]\n",
    "\n",
    "df_train = df[0:df_train_size]\n",
    "df_train_labels = df_labels[0:df_train_size]\n",
    "\n",
    "mel_train = mel[0:mel_train_size]\n",
    "mel_train_labels = mel_labels[0:mel_train_size]\n",
    "\n",
    "nv_train = nv[0:nv_train_size]\n",
    "nv_train_labels = nv_labels[0:nv_train_size]\n",
    "\n",
    "vasc_train = vasc[0:vasc_train_size]\n",
    "vasc_train_labels = vasc_labels[0:vasc_train_size]\n",
    "\n"
   ]
  },
  {
   "cell_type": "code",
   "execution_count": 166,
   "metadata": {},
   "outputs": [
    {
     "data": {
      "image/png": "[encoded data removed]",
      "text/plain": [
       "<Figure size 432x288 with 2 Axes>"
      ]
     },
     "metadata": {},
     "output_type": "display_data"
    }
   ],
   "source": [
    "#Sanity check looking at images\n",
    "\n",
    "# Heath Check to See if we read the train data properly\n",
    "\n",
    "fig, axes = plt.subplots(nrows = 1, ncols = 2)\n",
    "\n",
    "ax = axes.ravel()\n",
    "\n",
    "ax[0].set_title(\"First Image\")\n",
    "ax[0].imshow(akiec_train[10])\n",
    "\n",
    "ax[1].set_title(\"Second Image\")\n",
    "ax[1].imshow(bkl_train[100])\n",
    "\n",
    "plt.tight_layout()\n",
    "plt.show()"
   ]
  },
  {
   "cell_type": "code",
   "execution_count": 167,
   "metadata": {},
   "outputs": [
    {
     "name": "stdout",
     "output_type": "stream",
     "text": [
      "454\n",
      "454\n"
     ]
    }
   ],
   "source": [
    "print(len(vasc_train))\n",
    "print(len(vasc_train_labels))"
   ]
  },
  {
   "cell_type": "code",
   "execution_count": 168,
   "metadata": {},
   "outputs": [],
   "source": [
    "#lists of testing cancers\n",
    "akiec_test = akiec[akiec_train_size:]\n",
    "akiec_test_labels = akiec_labels[akiec_train_size:]\n",
    "\n",
    "bcc_test = bcc[bcc_train_size:]\n",
    "bcc_test_labels = bcc_labels[bcc_train_size:]\n",
    "\n",
    "bkl_test = bkl[bkl_train_size:]\n",
    "bkl_test_labels = bkl_labels[bkl_train_size:]\n",
    "\n",
    "df_test = df[df_train_size:]\n",
    "df_test_labels = df_labels[df_train_size:]\n",
    "\n",
    "mel_test = mel[mel_train_size:]\n",
    "mel_test_labels = mel_labels[mel_train_size:]\n",
    "\n",
    "nv_test = nv[nv_train_size:]\n",
    "nv_test_labels = nv_labels[nv_train_size:]\n",
    "\n",
    "vasc_test = vasc[vasc_train_size:]\n",
    "vasc_test_labels = vasc_labels[vasc_train_size:]"
   ]
  },
  {
   "cell_type": "code",
   "execution_count": 169,
   "metadata": {},
   "outputs": [],
   "source": [
    "#cell intentionally left blank"
   ]
  },
  {
   "cell_type": "code",
   "execution_count": 170,
   "metadata": {},
   "outputs": [
    {
     "name": "stdout",
     "output_type": "stream",
     "text": [
      "akiec train: 16736, akiec test:524\n",
      "akiec labels train: 16736, akiec test labels:524\n",
      "bcc train: 16440, bcc test:824\n",
      "bcc train labels: 16440, bcc test labels:824\n",
      "bkl train: 17580, bkl test:1760\n",
      "bkl train labels: 17580, bkl test labels:1760\n",
      "df train: 1472, df test:184\n",
      "df train labels: 1472, df test labels:184\n",
      "mel train: 17805, mel test:1782\n",
      "mel train labels: 17805, mel test labels:1782\n",
      "nv train: 21456, nv test:10728\n",
      "nv train labels: 21456, nv test labels:10728\n",
      "vasc train: 12712, vasc test:228\n",
      "vasc train labels: 12712, vasc test labels:228\n"
     ]
    }
   ],
   "source": [
    "#Sampling according to our factors\n",
    "factor_test = 2\n",
    "\n",
    "factor_akiec = 16\n",
    "akiec_train, akiec_test = akiec_train * factor_akiec, akiec_test * factor_test\n",
    "akiec_train_labels = pd.concat([akiec_train_labels]*factor_akiec)\n",
    "akiec_test_labels = pd.concat([akiec_test_labels]*factor_test)\n",
    "\n",
    "factor_bcc = 10\n",
    "bcc_train, bcc_test = bcc_train * factor_bcc, bcc_test * factor_test\n",
    "bcc_train_labels = pd.concat([bcc_train_labels]*factor_bcc)\n",
    "bcc_test_labels = pd.concat([bcc_test_labels]*factor_test)\n",
    "\n",
    "factor_bkl = 5\n",
    "bkl_train, bkl_test = bkl_train * factor_bkl, bkl_test * factor_test\n",
    "bkl_train_labels = pd.concat([bkl_train_labels]*factor_bkl)\n",
    "bkl_test_labels = pd.concat([bkl_test_labels]*factor_test)\n",
    "\n",
    "factor_df = 4\n",
    "df_train, df_test = df_train * factor_df, df_test * factor_test\n",
    "df_train_labels = pd.concat([df_train_labels] * factor_df)\n",
    "df_test_labels = pd.concat([df_test_labels] * factor_test)\n",
    "\n",
    "factor_mel = 5\n",
    "mel_train, mel_test = mel_train * factor_mel, mel_test * factor_test\n",
    "mel_train_labels = pd.concat([mel_train_labels]*factor_mel)\n",
    "mel_test_labels = pd.concat([mel_test_labels]*factor_test)\n",
    "\n",
    "factor_nv = 1\n",
    "nv_train, nv_test = nv_train * factor_nv, nv_test * factor_test\n",
    "nv_train_labels = pd.concat([nv_train_labels]*factor_nv)\n",
    "nv_test_labels = pd.concat([nv_test_labels]*factor_test)\n",
    "\n",
    "factor_vasc = 28\n",
    "vasc_train, vasc_test = vasc_train * factor_vasc, vasc_test * factor_test\n",
    "vasc_train_labels = pd.concat([vasc_train_labels]*factor_vasc)\n",
    "vasc_test_labels = pd.concat([vasc_test_labels]*factor_test)\n",
    "\n",
    "print(\"akiec train: \" + str(len(akiec_train)) + \", akiec test:\" + str(len(akiec_test)))\n",
    "print(\"akiec labels train: \" + str(len(akiec_train_labels)) + \", akiec test labels:\" + str(len(akiec_test_labels)))\n",
    "\n",
    "print(\"bcc train: \" + str(len(bcc_train)) + \", bcc test:\" + str(len(bcc_test)))\n",
    "print(\"bcc train labels: \" + str(len(bcc_train_labels)) + \", bcc test labels:\" + str(len(bcc_test_labels)))\n",
    "\n",
    "print(\"bkl train: \" + str(len(bkl_train)) + \", bkl test:\" + str(len(bkl_test)))\n",
    "print(\"bkl train labels: \" + str(len(bkl_train_labels)) + \", bkl test labels:\" + str(len(bkl_test_labels)))\n",
    "\n",
    "print(\"df train: \" + str(len(df_train)) + \", df test:\" + str(len(df_test)))\n",
    "print(\"df train labels: \" + str(len(df_train_labels)) + \", df test labels:\" + str(len(df_test_labels)))\n",
    "\n",
    "print(\"mel train: \" + str(len(mel_train)) + \", mel test:\" + str(len(mel_test)))\n",
    "print(\"mel train labels: \" + str(len(mel_train_labels)) + \", mel test labels:\" + str(len(mel_test_labels)))\n",
    "\n",
    "print(\"nv train: \" + str(len(nv_train)) + \", nv test:\" + str(len(nv_test)))\n",
    "print(\"nv train labels: \" + str(len(nv_train_labels)) + \", nv test labels:\" + str(len(nv_test_labels)))\n",
    "\n",
    "print(\"vasc train: \" + str(len(vasc_train)) + \", vasc test:\" + str(len(vasc_test)))\n",
    "print(\"vasc train labels: \" + str(len(vasc_train_labels)) + \", vasc test labels:\" + str(len(vasc_test_labels)))\n"
   ]
  },
  {
   "cell_type": "code",
   "execution_count": 171,
   "metadata": {},
   "outputs": [
    {
     "data": {
      "image/png": "[encoded data removed]",
      "text/plain": [
       "<Figure size 432x288 with 2 Axes>"
      ]
     },
     "metadata": {},
     "output_type": "display_data"
    }
   ],
   "source": [
    "#Sanity check looking at images\n",
    "\n",
    "#printing after multiplying datasets\n",
    "\n",
    "fig, axes = plt.subplots(nrows = 1, ncols = 2)\n",
    "\n",
    "ax = axes.ravel()\n",
    "\n",
    "ax[0].set_title(\"First Image\")\n",
    "ax[0].imshow(akiec_train[10])\n",
    "\n",
    "ax[1].set_title(\"Second Image\")\n",
    "ax[1].imshow(bcc_train[100])\n",
    "\n",
    "plt.tight_layout()\n",
    "plt.show()"
   ]
  },
  {
   "cell_type": "code",
   "execution_count": 172,
   "metadata": {},
   "outputs": [],
   "source": [
    "#making numpy array of images from the list of each image type\n",
    "data_train = []\n",
    "data_train.extend(akiec_train)\n",
    "data_train.extend(bcc_train)\n",
    "data_train.extend(bkl_train)\n",
    "data_train.extend(df_train)\n",
    "data_train.extend(mel_train)\n",
    "data_train.extend(nv_train)\n",
    "data_train.extend(vasc_train)\n",
    "\n",
    "\n",
    "#pairing labels\n",
    "labels_train = akiec_train_labels.append(bcc_train_labels)\n",
    "labels_train = labels_train.append(bkl_train_labels)\n",
    "labels_train = labels_train.append(df_train_labels)\n",
    "labels_train = labels_train.append(mel_train_labels)\n",
    "labels_train = labels_train.append(nv_train_labels)\n",
    "labels_train = labels_train.append(vasc_train_labels)"
   ]
  },
  {
   "cell_type": "code",
   "execution_count": 173,
   "metadata": {},
   "outputs": [
    {
     "data": {
      "image/png": "[encoded data removed]",
      "text/plain": [
       "<Figure size 432x288 with 2 Axes>"
      ]
     },
     "metadata": {},
     "output_type": "display_data"
    }
   ],
   "source": [
    "#Sanity check looking at images\n",
    "\n",
    "# Heath Check to See if we read the train data properly\n",
    "\n",
    "fig, axes = plt.subplots(nrows = 1, ncols = 2)\n",
    "\n",
    "ax = axes.ravel()\n",
    "\n",
    "ax[0].set_title(\"First Image\")\n",
    "ax[0].imshow(data_train[10])\n",
    "\n",
    "#because there are 16,736 akiec, so the hundredth bcc should be 16,736 + 100 = 16,836\n",
    "ax[1].set_title(\"Second Image\")\n",
    "ax[1].imshow(data_train[16836]) \n",
    "\n",
    "plt.tight_layout()\n",
    "plt.show()"
   ]
  },
  {
   "cell_type": "code",
   "execution_count": 174,
   "metadata": {},
   "outputs": [
    {
     "name": "stdout",
     "output_type": "stream",
     "text": [
      "Data train shape:\n",
      "(104201, 28, 28, 3)\n",
      "<class 'numpy.ndarray'>\n",
      "Labels train length:\n",
      "(104201, 7)\n",
      "<class 'numpy.ndarray'>\n"
     ]
    }
   ],
   "source": [
    "#converting to numpy array\n",
    "data_train = np.asarray(data_train)\n",
    "labels_train = np.asarray(labels_train)\n",
    "\n",
    "\n",
    "print(\"Data train shape:\")\n",
    "print(data_train.shape)\n",
    "print(type(data_train))\n",
    "print(\"Labels train length:\")\n",
    "print(labels_train.shape)\n",
    "print(type(labels_train))\n",
    "\n"
   ]
  },
  {
   "cell_type": "code",
   "execution_count": 175,
   "metadata": {},
   "outputs": [
    {
     "data": {
      "image/png": "[encoded data removed]",
      "text/plain": [
       "<Figure size 432x288 with 2 Axes>"
      ]
     },
     "metadata": {},
     "output_type": "display_data"
    },
    {
     "name": "stdout",
     "output_type": "stream",
     "text": [
      "[1 0 0 0 0 0 0]\n",
      "[0 1 0 0 0 0 0]\n"
     ]
    }
   ],
   "source": [
    "#Sanity check looking at images\n",
    "\n",
    "# Heath Check to See if we read the train data properly\n",
    "\n",
    "fig, axes = plt.subplots(nrows = 1, ncols = 2)\n",
    "\n",
    "ax = axes.ravel()\n",
    "\n",
    "ax[0].set_title(\"First Image\")\n",
    "ax[0].imshow(data_train[10])\n",
    "\n",
    "#because there are 16,736 akiec, so the hundredth bkl should be 16,736 + 100 = 16,836\n",
    "ax[1].set_title(\"Second Image\")\n",
    "ax[1].imshow(data_train[16836]) \n",
    "\n",
    "plt.tight_layout()\n",
    "plt.show()\n",
    "\n",
    "#if labels are to match they should be 1 in the first column, then 1 in the second column\n",
    "print(labels_train[10])\n",
    "print(labels_train[16836])"
   ]
  },
  {
   "cell_type": "code",
   "execution_count": 176,
   "metadata": {},
   "outputs": [
    {
     "name": "stdout",
     "output_type": "stream",
     "text": [
      "Data test shape:\n",
      "(16030, 28, 28, 3)\n",
      "<class 'numpy.ndarray'>\n",
      "Labels test length:\n",
      "(16030, 7)\n",
      "<class 'numpy.ndarray'>\n"
     ]
    }
   ],
   "source": [
    "data_test = []\n",
    "data_test.extend(akiec_test)\n",
    "data_test.extend(bcc_test)\n",
    "data_test.extend(bkl_test)\n",
    "data_test.extend(df_test)\n",
    "data_test.extend(mel_test)\n",
    "data_test.extend(nv_test)\n",
    "data_test.extend(vasc_test)\n",
    "\n",
    "\n",
    "\n",
    "#pairing labels\n",
    "labels_test = akiec_test_labels.append(bcc_test_labels)\n",
    "labels_test = labels_test.append(bkl_test_labels)\n",
    "labels_test = labels_test.append(df_test_labels)\n",
    "labels_test = labels_test.append(mel_test_labels)\n",
    "labels_test = labels_test.append(nv_test_labels)\n",
    "labels_test = labels_test.append(vasc_test_labels)\n",
    "\n",
    "#converting to numpy array\n",
    "data_test = np.asarray(data_test)\n",
    "labels_test = np.asarray(labels_test)\n",
    "\n",
    "\n",
    "print(\"Data test shape:\")\n",
    "print(data_test.shape)\n",
    "print(type(data_test))\n",
    "print(\"Labels test length:\")\n",
    "print(labels_test.shape)\n",
    "print(type(labels_test))\n",
    "\n"
   ]
  },
  {
   "cell_type": "code",
   "execution_count": 177,
   "metadata": {},
   "outputs": [
    {
     "name": "stdout",
     "output_type": "stream",
     "text": [
      "[[1 0 0 ... 0 0 0]\n",
      " [1 0 0 ... 0 0 0]\n",
      " [1 0 0 ... 0 0 0]\n",
      " ...\n",
      " [0 0 0 ... 0 0 1]\n",
      " [0 0 0 ... 0 0 1]\n",
      " [0 0 0 ... 0 0 1]]\n"
     ]
    }
   ],
   "source": [
    "print(labels_train)"
   ]
  },
  {
   "cell_type": "code",
   "execution_count": 178,
   "metadata": {},
   "outputs": [],
   "source": [
    "if sample_of_choice != \"upsample\":\n",
    "    # Shuffle labels/data into train and test sets\n",
    "    #this is splitting all data into train and test, and also the labels\n",
    "    data_train, data_test, labels_train, labels_test = train_test_split(all_data, all_labels_one_hot, test_size = 0.30)\n",
    "\n",
    "else:\n",
    "    #effectively taking out 10% of the sample, just trying to use this function\n",
    "    data_train, not_used_data_test, labels_train, not_used_labels_test = train_test_split(data_train, labels_train, test_size = 0.1)\n",
    "    not_used_data_train, data_test, not_used_labels_train, labels_test = train_test_split(data_test, labels_test, test_size = 0.9)\n",
    "    "
   ]
  },
  {
   "cell_type": "code",
   "execution_count": 179,
   "metadata": {},
   "outputs": [
    {
     "name": "stdout",
     "output_type": "stream",
     "text": [
      "data train shape\n",
      "(93780, 28, 28, 3)\n",
      "labels train shape\n",
      "(93780, 7)\n",
      "\n",
      "\n",
      "data test shape\n",
      "(14427, 28, 28, 3)\n",
      "labels test shape\n",
      "(14427, 7)\n"
     ]
    }
   ],
   "source": [
    "\n",
    "print(\"data train shape\")\n",
    "print(data_train.shape)\n",
    "print(\"labels train shape\")\n",
    "print(labels_train.shape)\n",
    "\n",
    "print(\"\\n\")\n",
    "\n",
    "print(\"data test shape\")\n",
    "print(data_test.shape)\n",
    "print(\"labels test shape\")\n",
    "print(labels_test.shape)"
   ]
  },
  {
   "cell_type": "code",
   "execution_count": 180,
   "metadata": {},
   "outputs": [
    {
     "data": {
      "image/png": "[encoded data removed]",
      "text/plain": [
       "<Figure size 432x288 with 2 Axes>"
      ]
     },
     "metadata": {},
     "output_type": "display_data"
    }
   ],
   "source": [
    "#Sanity check looking at images\n",
    "\n",
    "# Heath Check to See if we read the train data properly\n",
    "\n",
    "fig, axes = plt.subplots(nrows = 1, ncols = 2)\n",
    "\n",
    "ax = axes.ravel()\n",
    "\n",
    "ax[0].set_title(\"First Image\")\n",
    "ax[0].imshow(data_train[2000])\n",
    "\n",
    "ax[1].set_title(\"Second Image\")\n",
    "ax[1].imshow(data_train[len(data_train)-10000])\n",
    "\n",
    "plt.tight_layout()\n",
    "plt.show()"
   ]
  },
  {
   "cell_type": "code",
   "execution_count": null,
   "metadata": {},
   "outputs": [],
   "source": []
  },
  {
   "cell_type": "code",
   "execution_count": 181,
   "metadata": {},
   "outputs": [],
   "source": [
    "# Normalizing data\n",
    "#how is that normalizing? aren't we hardcoding this?\n",
    "#data_train = (data_train - 128.0) / 128\n",
    "#data_test = (data_test - 128.0) / 128\n",
    "\n",
    "#2nd choice of normalization\n",
    "#finding normalization parameters\n",
    "data_train_min = data_train.min(axis=(1, 2), keepdims=True)\n",
    "data_train_max = data_train.max(axis=(1, 2), keepdims=True)\n",
    "data_test_min = data_test.min(axis=(1, 2), keepdims=True)\n",
    "data_test_max = data_test.max(axis=(1, 2), keepdims=True)\n",
    "data_train = (data_train - data_train_min)/(data_train_max-data_train_min) #normalizing the datasets\n",
    "data_test = (data_test - data_test_min)/(data_test_max-data_test_min) #normalizing the datasets\n",
    "\n",
    "#3rd choice of normalization\n",
    "# data_train_mean = data_train.mean(axis=(1, 2), keepdims=True)\n",
    "# data_train_std = data_train.std(axis=(1, 2), keepdims=True)\n",
    "# data_test_mean = data_test.mean(axis=(1, 2), keepdims=True) \n",
    "# data_test_std = data_test.std(axis=(1, 2), keepdims=True)\n",
    "# data_train = (data_train - data_train_mean)/(data_train_std) #normalizing the datasets\n",
    "# data_test = (data_test - data_test_mean)/(data_test_std) #normalizing the datasets\n",
    "\n",
    "#why is that hardcoded?\n",
    "VALIDATION_SIZE = 1000\n",
    "\n",
    "#what is Cyril doing here?\n",
    "validation_data = data_train[:VALIDATION_SIZE, :, :, :]\n",
    "validation_labels = labels_train[:VALIDATION_SIZE]\n",
    "data_train = data_train[VALIDATION_SIZE:, :, :, :]\n",
    "labels_train = labels_train[VALIDATION_SIZE:]\n"
   ]
  },
  {
   "cell_type": "code",
   "execution_count": 182,
   "metadata": {},
   "outputs": [
    {
     "data": {
      "image/png": "[encoded data removed]",
      "text/plain": [
       "<Figure size 432x288 with 2 Axes>"
      ]
     },
     "metadata": {},
     "output_type": "display_data"
    }
   ],
   "source": [
    "#Sanity check looking at images\n",
    "\n",
    "# Heath Check to See if we read the train data properly\n",
    "\n",
    "fig, axes = plt.subplots(nrows = 1, ncols = 2)\n",
    "\n",
    "ax = axes.ravel()\n",
    "\n",
    "ax[0].set_title(\"First Image\")\n",
    "ax[0].imshow(data_train[2])\n",
    "\n",
    "ax[1].set_title(\"Second Image\")\n",
    "ax[1].imshow(data_train[2])\n",
    "\n",
    "plt.tight_layout()\n",
    "plt.show()"
   ]
  },
  {
   "cell_type": "code",
   "execution_count": 183,
   "metadata": {},
   "outputs": [
    {
     "name": "stdout",
     "output_type": "stream",
     "text": [
      "this is the data train set\n",
      "(92780, 28, 28, 3)\n",
      "(92780, 7)\n",
      "this is the data test set\n",
      "(14427, 28, 28, 3)\n",
      "(14427, 7)\n",
      "this is the validation data set\n",
      "(1000, 28, 28, 3)\n",
      "(1000, 7)\n"
     ]
    }
   ],
   "source": [
    "# Health check to see if we have the correct number of arrays\n",
    "print(\"this is the data train set\")\n",
    "print(data_train.shape)\n",
    "print(labels_train.shape)\n",
    "\n",
    "print(\"this is the data test set\")\n",
    "print(data_test.shape)\n",
    "print(labels_test.shape)\n",
    "\n",
    "print(\"this is the validation data set\")\n",
    "print(validation_data.shape)\n",
    "print(validation_labels.shape)\n",
    "\n",
    "#tf.placeholder\n",
    "#loop breaking into chunks, calling multiple times or doing a for loop"
   ]
  },
  {
   "cell_type": "code",
   "execution_count": 192,
   "metadata": {},
   "outputs": [],
   "source": [
    "# Defining weights and biases\n",
    "\n",
    "NUM_CHANNELS = 3 # RGB IMAGE\n",
    "SEED = 42\n",
    "NUM_LABELS = 7\n",
    "BATCH_SIZE = 30\n",
    "\n",
    "# 5x5 filter, depth 32.\n",
    "conv1_weights = tf.Variable( tf.truncated_normal([3, 3, NUM_CHANNELS, 32], stddev = 0.1, seed=SEED))\n",
    "conv1_biases = tf.Variable(tf.zeros([32]))\n",
    "\n",
    "conv2_weights = tf.Variable(tf.truncated_normal([3, 3, 32, 64], stddev = 0.1, seed = SEED))\n",
    "conv2_biases = tf.Variable(tf.constant(0.1, shape = [64]))\n",
    "\n",
    "conv3_weights = tf.Variable(tf.truncated_normal([3, 3, 64, 64], stddev = 0.1, seed=SEED))\n",
    "conv3_biases = tf.Variable(tf.constant(0.1, shape = [64]))\n",
    "\n",
    "# fully connected, depth 512\n",
    "fc1_weights = tf.Variable(tf.truncated_normal([IMAGE_SIZE // 4 * IMAGE_SIZE // 4 * 64, 512], \n",
    "                          stddev=0.1, seed=SEED))\n",
    "fc1_biases = tf.Variable(tf.constant(0.1, shape=[512]))\n",
    "fc2_weights = tf.Variable(tf.truncated_normal([512, NUM_LABELS], stddev=0.1, seed=SEED))\n",
    "fc2_biases = tf.Variable(tf.constant(0.1, shape=[NUM_LABELS]))"
   ]
  },
  {
   "cell_type": "code",
   "execution_count": 193,
   "metadata": {},
   "outputs": [],
   "source": [
    "def skin_neural_net(data):\n",
    "    \n",
    "    data = tf.cast(data, tf.float32)\n",
    "\n",
    "    # Step 1: Convolution\n",
    "    #transforming image to 2d and applying convolutional layer\n",
    "    # network = conv_2d (incoming, nb_filter, filter_size) #nb filter is the number of convolutional filters (neurons)\n",
    "    #network = conv_2d(network, 32, 3, activation='relu')    \n",
    "    conv = tf.nn.conv2d(data, conv1_weights, strides=[1, 1, 1, 1], padding='SAME')\n",
    "    \n",
    "    # Step 2: Max pooling\n",
    "    #max pooling documentation goes below: \n",
    "    #tflearn.layers.conv.max_pool_2d (incoming, kernel_size, strides=None, padding='same', name='MaxPool2D')\n",
    "\n",
    "    # Bias and rectified linear non-linearity.\n",
    "    relu = tf.nn.relu(tf.nn.bias_add(conv, conv1_biases))\n",
    "    pool = tf.nn.max_pool(relu, ksize=[1, 2, 2, 1], strides=[1, 2, 2, 1], padding='SAME')\n",
    "    \n",
    "    # Step 3: Convolution\n",
    "    conv = tf.nn.conv2d(pool, conv2_weights, strides=[1, 1, 1, 1], padding='SAME')\n",
    "    \n",
    "    #Thinking about including another max pooling here\n",
    "    \n",
    "    # Step 4: Convolution\n",
    "    conv = tf.nn.conv2d(conv, conv3_weights, strides=[1, 1, 1, 1], padding='SAME')\n",
    "    \n",
    "    # Step 5: Max pooling\n",
    "    relu = tf.nn.relu(tf.nn.bias_add(conv, conv3_biases))\n",
    "    pool = tf.nn.max_pool(relu, ksize=[1, 2, 2, 1], strides=[1, 2, 2, 1], padding='SAME')\n",
    "    \n",
    "    # Step 6: Fully-connected 512 node neural network\n",
    "    #network = fully_connected(network, 512, activation='relu')\n",
    "    pool_shape = pool.get_shape().as_list()\n",
    "    reshape = tf.reshape(pool, [pool_shape[0], pool_shape[1] * pool_shape[2] * pool_shape[3]])\n",
    "\n",
    "    hidden = tf.nn.relu(tf.matmul(reshape, fc1_weights) + fc1_biases)\n",
    "    \n",
    "    # Step 7: Dropout - throw away some data randomly during training to prevent over-fitting\n",
    "    hidden = tf.nn.dropout(hidden, 0.5, seed = SEED)\n",
    "    \n",
    "    # Step 8: Fully-connected neural network with X outputs\n",
    "    network = tf.matmul(hidden, fc2_weights) + fc2_biases\n",
    "    \n",
    "    print(network)\n",
    "    \n",
    "    return network"
   ]
  },
  {
   "cell_type": "code",
   "execution_count": 194,
   "metadata": {},
   "outputs": [
    {
     "name": "stdout",
     "output_type": "stream",
     "text": [
      "Tensor(\"add_41:0\", shape=(30, 7), dtype=float32)\n",
      "Tensor(\"add_47:0\", shape=(1000, 7), dtype=float32)\n",
      "Tensor(\"add_49:0\", shape=(14427, 7), dtype=float32)\n"
     ]
    }
   ],
   "source": [
    "#Pedro change\n",
    "#creating two tensors in the image dimensions\n",
    "train_data_node = tf.placeholder( tf.float32, shape = (BATCH_SIZE, IMAGE_SIZE, IMAGE_SIZE, NUM_CHANNELS))\n",
    "\n",
    "train_labels_node = tf.placeholder(tf.float32, shape = (BATCH_SIZE, NUM_LABELS))\n",
    "\n",
    "#\n",
    "\n",
    "#validation and datasets nodes\n",
    "validation_data_node = tf.constant(validation_data)\n",
    "test_data_node = tf.constant(data_test)\n",
    "\n",
    "#Original Code\n",
    "#validation_data_node = tf.constant(validation_data)\n",
    "#test_data_node = tf.constant(test_data)\n",
    "\n",
    "\n",
    "logits = skin_neural_net(train_data_node)\n",
    "loss = tf.reduce_mean(tf.nn.softmax_cross_entropy_with_logits_v2(labels = train_labels_node, \n",
    "                                                                logits = logits))\n",
    "\n",
    "# L2 regularization for the fully connected parameters.\n",
    "regularizers = (tf.nn.l2_loss(fc1_weights) + tf.nn.l2_loss(fc1_biases) +\n",
    "                tf.nn.l2_loss(fc2_weights) + tf.nn.l2_loss(fc2_biases))\n",
    "# Add the regularization term to the loss.\n",
    "loss += 5e-4 * regularizers\n",
    "\n",
    "# Optimizer: set up a variable that's incremented once per batch and controls the learning rate decay.\n",
    "batch = tf.Variable(0)\n",
    "# Decay once per epoch, using an exponential schedule starting at 0.01.\n",
    "learning_rate = tf.train.exponential_decay(\n",
    "    0.01, # Base learning rate.\n",
    "  batch * BATCH_SIZE,  # Current index into the dataset.\n",
    "  labels_train.shape[0],          # Decay step.\n",
    "  0.95,                # Decay rate.\n",
    "  staircase=True)\n",
    "# Use simple momentum for the optimization.\n",
    "optimizer = tf.train.MomentumOptimizer(learning_rate, 0.9).minimize(loss, global_step=batch)\n",
    "\n",
    "# Predictions for the minibatch, validation set and test set.\n",
    "train_prediction = tf.nn.softmax(logits)\n",
    "# We'll compute them only once in a while by calling their {eval()} method.\n",
    "validation_prediction = tf.nn.softmax(skin_neural_net(validation_data_node))\n",
    "test_prediction = tf.nn.softmax(skin_neural_net(test_data_node))"
   ]
  },
  {
   "cell_type": "code",
   "execution_count": 195,
   "metadata": {},
   "outputs": [
    {
     "name": "stderr",
     "output_type": "stream",
     "text": [
      "C:\\Users\\pedropetersen\\Anaconda3\\lib\\site-packages\\tensorflow\\python\\client\\session.py:1702: UserWarning: An interactive session is already active. This can cause out-of-memory errors in some cases. You must explicitly call `InteractiveSession.close()` to release resources held by the other session(s).\n",
      "  warnings.warn('An interactive session is already active. This can '\n"
     ]
    },
    {
     "name": "stdout",
     "output_type": "stream",
     "text": [
      "Done\n"
     ]
    }
   ],
   "source": [
    "# Create a new interactive session that we'll use in subsequent code cells.\n",
    "s = tf.InteractiveSession()\n",
    "s.as_default() \n",
    "\n",
    "# Initialize all the variables we defined above.\n",
    "tf.global_variables_initializer().run()\n",
    "\n",
    "# Grab the first BATCH_SIZE examples and labels.\n",
    "batch_data = data_train[:BATCH_SIZE, :, :, :]\n",
    "batch_labels = labels_train[:BATCH_SIZE]\n",
    "\n",
    "# This dictionary maps the batch data (as a numpy array) to the\n",
    "# node in the graph it should be fed to.\n",
    "feed_dict = {train_data_node: batch_data, train_labels_node: batch_labels}\n",
    "\n",
    "# Run the graph and fetch some of the nodes.\n",
    "_, l, lr, predictions = s.run([optimizer, loss, learning_rate, train_prediction], feed_dict = feed_dict)\n",
    "\n",
    "print('Done')"
   ]
  },
  {
   "cell_type": "code",
   "execution_count": 196,
   "metadata": {},
   "outputs": [],
   "source": [
    "def error_rate(predictions, labels):\n",
    "    \"\"\"Return the error rate and confusions.\"\"\"\n",
    "    correct = np.sum(np.argmax(predictions, 1) == np.argmax(labels, 1))\n",
    "    total = predictions.shape[0]\n",
    "\n",
    "    error = 100.0 - (100 * float(correct) / float(total))\n",
    "\n",
    "    confusions = np.zeros([7, 7], np.float32)\n",
    "    bundled = zip(np.argmax(predictions, 1), np.argmax(labels, 1))\n",
    "    for predicted, actual in bundled:\n",
    "        confusions[predicted, actual] += 1\n",
    "    \n",
    "    return error, confusions"
   ]
  },
  {
   "cell_type": "code",
   "execution_count": null,
   "metadata": {},
   "outputs": [],
   "source": []
  },
  {
   "cell_type": "code",
   "execution_count": 197,
   "metadata": {},
   "outputs": [
    {
     "name": "stdout",
     "output_type": "stream",
     "text": [
      "Step 0 of 3092\n",
      "Mini-batch loss: 10.12045 Error: 93.33333 Learning rate: 0.01000\n",
      "Validation error: 83.3%\n",
      "Step 100 of 3092\n",
      "Mini-batch loss: 5.07794 Error: 93.33333 Learning rate: 0.01000\n",
      "Validation error: 80.3%\n",
      "Step 200 of 3092\n",
      "Mini-batch loss: 4.87753 Error: 86.66667 Learning rate: 0.01000\n",
      "Validation error: 80.0%\n",
      "Step 300 of 3092\n",
      "Mini-batch loss: 4.94627 Error: 70.00000 Learning rate: 0.01000\n",
      "Validation error: 81.4%\n",
      "Step 400 of 3092\n",
      "Mini-batch loss: 4.79814 Error: 80.00000 Learning rate: 0.01000\n",
      "Validation error: 80.3%\n",
      "Step 500 of 3092\n",
      "Mini-batch loss: 4.86298 Error: 80.00000 Learning rate: 0.01000\n",
      "Validation error: 79.5%\n",
      "Step 600 of 3092\n",
      "Mini-batch loss: 4.83835 Error: 93.33333 Learning rate: 0.01000\n",
      "Validation error: 80.5%\n",
      "Step 700 of 3092\n",
      "Mini-batch loss: 4.83341 Error: 76.66667 Learning rate: 0.01000\n",
      "Validation error: 80.3%\n",
      "Step 800 of 3092\n",
      "Mini-batch loss: 4.69659 Error: 86.66667 Learning rate: 0.01000\n",
      "Validation error: 78.8%\n",
      "Step 900 of 3092\n",
      "Mini-batch loss: 4.65541 Error: 83.33333 Learning rate: 0.01000\n",
      "Validation error: 80.0%\n",
      "Step 1000 of 3092\n",
      "Mini-batch loss: 4.60159 Error: 90.00000 Learning rate: 0.01000\n",
      "Validation error: 80.7%\n",
      "Step 1100 of 3092\n",
      "Mini-batch loss: 4.60718 Error: 80.00000 Learning rate: 0.01000\n",
      "Validation error: 79.6%\n",
      "Step 1200 of 3092\n",
      "Mini-batch loss: 4.54471 Error: 90.00000 Learning rate: 0.01000\n",
      "Validation error: 79.8%\n",
      "Step 1300 of 3092\n",
      "Mini-batch loss: 4.60812 Error: 73.33333 Learning rate: 0.01000\n",
      "Validation error: 83.1%\n",
      "Step 1400 of 3092\n",
      "Mini-batch loss: 4.55168 Error: 86.66667 Learning rate: 0.01000\n",
      "Validation error: 82.2%\n",
      "Step 1500 of 3092\n",
      "Mini-batch loss: 4.43363 Error: 70.00000 Learning rate: 0.01000\n",
      "Validation error: 81.5%\n",
      "Step 1600 of 3092\n",
      "Mini-batch loss: 4.47917 Error: 90.00000 Learning rate: 0.01000\n",
      "Validation error: 80.6%\n",
      "Step 1700 of 3092\n",
      "Mini-batch loss: 4.48947 Error: 86.66667 Learning rate: 0.01000\n",
      "Validation error: 79.3%\n",
      "Step 1800 of 3092\n",
      "Mini-batch loss: 4.45716 Error: 83.33333 Learning rate: 0.01000\n",
      "Validation error: 79.0%\n",
      "Step 1900 of 3092\n",
      "Mini-batch loss: 4.41499 Error: 73.33333 Learning rate: 0.01000\n",
      "Validation error: 79.4%\n",
      "Step 2000 of 3092\n",
      "Mini-batch loss: 4.35408 Error: 63.33333 Learning rate: 0.01000\n",
      "Validation error: 80.6%\n",
      "Step 2100 of 3092\n",
      "Mini-batch loss: 4.41438 Error: 90.00000 Learning rate: 0.01000\n",
      "Validation error: 79.9%\n",
      "Step 2200 of 3092\n",
      "Mini-batch loss: 4.25067 Error: 83.33333 Learning rate: 0.01000\n",
      "Validation error: 78.6%\n",
      "Step 2300 of 3092\n",
      "Mini-batch loss: 4.33643 Error: 83.33333 Learning rate: 0.01000\n",
      "Validation error: 80.7%\n",
      "Step 2400 of 3092\n",
      "Mini-batch loss: 4.26946 Error: 86.66667 Learning rate: 0.01000\n",
      "Validation error: 78.5%\n",
      "Step 2500 of 3092\n",
      "Mini-batch loss: 4.25003 Error: 80.00000 Learning rate: 0.01000\n",
      "Validation error: 78.6%\n",
      "Step 2600 of 3092\n",
      "Mini-batch loss: 4.29637 Error: 83.33333 Learning rate: 0.01000\n",
      "Validation error: 79.5%\n",
      "Step 2700 of 3092\n",
      "Mini-batch loss: 4.19460 Error: 90.00000 Learning rate: 0.01000\n",
      "Validation error: 79.2%\n",
      "Step 2800 of 3092\n",
      "Mini-batch loss: 4.19473 Error: 76.66667 Learning rate: 0.01000\n",
      "Validation error: 78.9%\n",
      "Step 2900 of 3092\n",
      "Mini-batch loss: 4.45346 Error: 83.33333 Learning rate: 0.01000\n",
      "Validation error: 79.2%\n",
      "Step 3000 of 3092\n",
      "Mini-batch loss: 4.11517 Error: 80.00000 Learning rate: 0.01000\n",
      "Validation error: 82.6%\n"
     ]
    }
   ],
   "source": [
    "steps = labels_train.shape[0] // BATCH_SIZE\n",
    "for step in range(steps):\n",
    "    # Compute the offset of the current minibatch in the data.\n",
    "    # Note that we could use better randomization across epochs.\n",
    "    offset = (step * BATCH_SIZE) % (labels_train.shape[0] - BATCH_SIZE)\n",
    "    batch_data = data_train[offset:(offset + BATCH_SIZE), :, :, :]\n",
    "    batch_labels = labels_train[offset:(offset + BATCH_SIZE)]\n",
    "    # This dictionary maps the batch data (as a numpy array) to the \n",
    "    #node in the graph it should be fed to.\n",
    "    feed_dict = {train_data_node: batch_data,\n",
    "                 train_labels_node: batch_labels}\n",
    "    # Run the graph and fetch some of the nodes.\n",
    "    _, l, lr, predictions = s.run([optimizer, loss, learning_rate, train_prediction],\n",
    "                                      feed_dict=feed_dict)\n",
    "    \n",
    "    # Print out the loss periodically.\n",
    "    if step % 100 == 0:\n",
    "        error, _ = error_rate(predictions, batch_labels)\n",
    "        print('Step %d of %d' % (step, steps))\n",
    "        print('Mini-batch loss: %.5f Error: %.5f Learning rate: %.5f' % (l, error, lr))\n",
    "        print('Validation error: %.1f%%' % error_rate(\n",
    "              validation_prediction.eval(), validation_labels)[0])"
   ]
  },
  {
   "cell_type": "code",
   "execution_count": 198,
   "metadata": {},
   "outputs": [
    {
     "name": "stdout",
     "output_type": "stream",
     "text": [
      "Test error: 44.7%\n"
     ]
    },
    {
     "data": {
      "image/png": "[encoded data removed]",
      "text/plain": [
       "<Figure size 432x288 with 2 Axes>"
      ]
     },
     "metadata": {},
     "output_type": "display_data"
    }
   ],
   "source": [
    "test_error, confusions = error_rate(test_prediction.eval(), labels_test)\n",
    "print('Test error: %.1f%%' % test_error)\n",
    "\n",
    "plt.xlabel('Actual')\n",
    "plt.ylabel('Predicted')\n",
    "plt.grid(False)\n",
    "plt.xticks(np.arange(NUM_LABELS))\n",
    "plt.yticks(np.arange(NUM_LABELS))\n",
    "plt.imshow(confusions, cmap=plt.cm.jet, interpolation='nearest');\n",
    "plt.colorbar()\n",
    "\n",
    "for i, cas in enumerate(confusions):\n",
    "    for j, count in enumerate(cas):\n",
    "        if count > 0:\n",
    "            xoff = .07 * len(str(count))\n",
    "            plt.text(j-xoff, i+.2, int(count), fontsize=8, color='white')"
   ]
  },
  {
   "cell_type": "code",
   "execution_count": null,
   "metadata": {},
   "outputs": [],
   "source": []
  }
 ],
 "metadata": {
  "kernelspec": {
   "display_name": "Python 3",
   "language": "python",
   "name": "python3"
  },
  "language_info": {
   "codemirror_mode": {
    "name": "ipython",
    "version": 3
   },
   "file_extension": ".py",
   "mimetype": "text/x-python",
   "name": "python",
   "nbconvert_exporter": "python",
   "pygments_lexer": "ipython3",
   "version": "3.6.5"
  }
 },
 "nbformat": 4,
 "nbformat_minor": 2
}
