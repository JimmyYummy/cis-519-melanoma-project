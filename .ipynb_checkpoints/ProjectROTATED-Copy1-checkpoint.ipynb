{
 "cells": [
  {
   "cell_type": "markdown",
   "metadata": {},
   "source": [
    "This notebook reads the images generated from ProcessImagesROTATED notebook \n",
    "into train and test datasets. Then it runs a CNN model with these images."
   ]
  },
  {
   "cell_type": "code",
   "execution_count": 2,
   "metadata": {},
   "outputs": [
    {
     "name": "stderr",
     "output_type": "stream",
     "text": [
      "/anaconda3/lib/python3.6/site-packages/h5py/__init__.py:36: FutureWarning: Conversion of the second argument of issubdtype from `float` to `np.floating` is deprecated. In future, it will be treated as `np.float64 == np.dtype(float).type`.\n",
      "  from ._conv import register_converters as _register_converters\n"
     ]
    }
   ],
   "source": [
    "'''importing packages'''\n",
    "import numpy as np\n",
    "import pandas as pd\n",
    "import tensorflow as tf\n",
    "import matplotlib.pyplot as plt\n",
    "import os\n",
    "from skimage import io"
   ]
  },
  {
   "cell_type": "code",
   "execution_count": 3,
   "metadata": {},
   "outputs": [],
   "source": [
    "'''parameters to run model more efficiently'''\n",
    "IMAGE_SIZE = 28\n",
    "\n",
    "#this defines if we treat the data upsampled or not\n",
    "\n",
    "#if upsample, multiplies rotated images and tests on normal initial dataset (separated)\n",
    "sample_of_choice = \"upsample\"\n",
    "\n",
    "#if normal, uses the 40,060 images without further manipulation\n",
    "# sample_of_choice = \"normal\"\n"
   ]
  },
  {
   "cell_type": "code",
   "execution_count": 4,
   "metadata": {},
   "outputs": [
    {
     "data": {
      "text/plain": [
       "lesion_id       6705\n",
       "image_id        6705\n",
       "dx              6705\n",
       "dx_type         6705\n",
       "age             6660\n",
       "sex             6705\n",
       "localization    6705\n",
       "dtype: int64"
      ]
     },
     "execution_count": 4,
     "metadata": {},
     "output_type": "execute_result"
    }
   ],
   "source": [
    "#define file\n",
    "meta_pd = pd.read_csv('./HAM10000/HAM10000_metadata.csv')\n",
    "#sanity check\n",
    "meta_pd[meta_pd[\"dx\"]==\"nv\"].count()"
   ]
  },
  {
   "cell_type": "code",
   "execution_count": 9,
   "metadata": {},
   "outputs": [],
   "source": [
    "meta_pd = meta_pd.sort_values(by = ['image_id'])"
   ]
  },
  {
   "cell_type": "code",
   "execution_count": 10,
   "metadata": {},
   "outputs": [
    {
     "data": {
      "text/html": [
       "<div>\n",
       "<style scoped>\n",
       "    .dataframe tbody tr th:only-of-type {\n",
       "        vertical-align: middle;\n",
       "    }\n",
       "\n",
       "    .dataframe tbody tr th {\n",
       "        vertical-align: top;\n",
       "    }\n",
       "\n",
       "    .dataframe thead th {\n",
       "        text-align: right;\n",
       "    }\n",
       "</style>\n",
       "<table border=\"1\" class=\"dataframe\">\n",
       "  <thead>\n",
       "    <tr style=\"text-align: right;\">\n",
       "      <th></th>\n",
       "      <th>lesion_id</th>\n",
       "      <th>image_id</th>\n",
       "      <th>dx</th>\n",
       "      <th>dx_type</th>\n",
       "      <th>age</th>\n",
       "      <th>sex</th>\n",
       "      <th>localization</th>\n",
       "    </tr>\n",
       "  </thead>\n",
       "  <tbody>\n",
       "    <tr>\n",
       "      <th>4349</th>\n",
       "      <td>HAM_0000550</td>\n",
       "      <td>ISIC_0024306</td>\n",
       "      <td>nv</td>\n",
       "      <td>follow_up</td>\n",
       "      <td>45.0</td>\n",
       "      <td>male</td>\n",
       "      <td>trunk</td>\n",
       "    </tr>\n",
       "    <tr>\n",
       "      <th>4263</th>\n",
       "      <td>HAM_0003577</td>\n",
       "      <td>ISIC_0024307</td>\n",
       "      <td>nv</td>\n",
       "      <td>follow_up</td>\n",
       "      <td>50.0</td>\n",
       "      <td>male</td>\n",
       "      <td>lower extremity</td>\n",
       "    </tr>\n",
       "    <tr>\n",
       "      <th>4217</th>\n",
       "      <td>HAM_0001477</td>\n",
       "      <td>ISIC_0024308</td>\n",
       "      <td>nv</td>\n",
       "      <td>follow_up</td>\n",
       "      <td>55.0</td>\n",
       "      <td>female</td>\n",
       "      <td>trunk</td>\n",
       "    </tr>\n",
       "    <tr>\n",
       "      <th>3587</th>\n",
       "      <td>HAM_0000484</td>\n",
       "      <td>ISIC_0024309</td>\n",
       "      <td>nv</td>\n",
       "      <td>follow_up</td>\n",
       "      <td>40.0</td>\n",
       "      <td>male</td>\n",
       "      <td>trunk</td>\n",
       "    </tr>\n",
       "    <tr>\n",
       "      <th>1451</th>\n",
       "      <td>HAM_0003350</td>\n",
       "      <td>ISIC_0024310</td>\n",
       "      <td>mel</td>\n",
       "      <td>histo</td>\n",
       "      <td>60.0</td>\n",
       "      <td>male</td>\n",
       "      <td>chest</td>\n",
       "    </tr>\n",
       "    <tr>\n",
       "      <th>4497</th>\n",
       "      <td>HAM_0000981</td>\n",
       "      <td>ISIC_0024311</td>\n",
       "      <td>nv</td>\n",
       "      <td>follow_up</td>\n",
       "      <td>75.0</td>\n",
       "      <td>female</td>\n",
       "      <td>back</td>\n",
       "    </tr>\n",
       "    <tr>\n",
       "      <th>700</th>\n",
       "      <td>HAM_0001359</td>\n",
       "      <td>ISIC_0024312</td>\n",
       "      <td>bkl</td>\n",
       "      <td>histo</td>\n",
       "      <td>75.0</td>\n",
       "      <td>male</td>\n",
       "      <td>lower extremity</td>\n",
       "    </tr>\n",
       "    <tr>\n",
       "      <th>2130</th>\n",
       "      <td>HAM_0002869</td>\n",
       "      <td>ISIC_0024313</td>\n",
       "      <td>mel</td>\n",
       "      <td>histo</td>\n",
       "      <td>50.0</td>\n",
       "      <td>female</td>\n",
       "      <td>back</td>\n",
       "    </tr>\n",
       "    <tr>\n",
       "      <th>6803</th>\n",
       "      <td>HAM_0002198</td>\n",
       "      <td>ISIC_0024314</td>\n",
       "      <td>nv</td>\n",
       "      <td>histo</td>\n",
       "      <td>75.0</td>\n",
       "      <td>male</td>\n",
       "      <td>lower extremity</td>\n",
       "    </tr>\n",
       "    <tr>\n",
       "      <th>1327</th>\n",
       "      <td>HAM_0007538</td>\n",
       "      <td>ISIC_0024315</td>\n",
       "      <td>mel</td>\n",
       "      <td>histo</td>\n",
       "      <td>55.0</td>\n",
       "      <td>male</td>\n",
       "      <td>trunk</td>\n",
       "    </tr>\n",
       "    <tr>\n",
       "      <th>5381</th>\n",
       "      <td>HAM_0002718</td>\n",
       "      <td>ISIC_0024316</td>\n",
       "      <td>nv</td>\n",
       "      <td>follow_up</td>\n",
       "      <td>55.0</td>\n",
       "      <td>male</td>\n",
       "      <td>back</td>\n",
       "    </tr>\n",
       "    <tr>\n",
       "      <th>7081</th>\n",
       "      <td>HAM_0003951</td>\n",
       "      <td>ISIC_0024317</td>\n",
       "      <td>nv</td>\n",
       "      <td>histo</td>\n",
       "      <td>35.0</td>\n",
       "      <td>female</td>\n",
       "      <td>abdomen</td>\n",
       "    </tr>\n",
       "    <tr>\n",
       "      <th>1159</th>\n",
       "      <td>HAM_0002450</td>\n",
       "      <td>ISIC_0024318</td>\n",
       "      <td>df</td>\n",
       "      <td>consensus</td>\n",
       "      <td>65.0</td>\n",
       "      <td>female</td>\n",
       "      <td>lower extremity</td>\n",
       "    </tr>\n",
       "    <tr>\n",
       "      <th>8123</th>\n",
       "      <td>HAM_0003062</td>\n",
       "      <td>ISIC_0024319</td>\n",
       "      <td>nv</td>\n",
       "      <td>histo</td>\n",
       "      <td>55.0</td>\n",
       "      <td>male</td>\n",
       "      <td>lower extremity</td>\n",
       "    </tr>\n",
       "    <tr>\n",
       "      <th>4957</th>\n",
       "      <td>HAM_0005039</td>\n",
       "      <td>ISIC_0024320</td>\n",
       "      <td>nv</td>\n",
       "      <td>follow_up</td>\n",
       "      <td>65.0</td>\n",
       "      <td>male</td>\n",
       "      <td>trunk</td>\n",
       "    </tr>\n",
       "    <tr>\n",
       "      <th>4211</th>\n",
       "      <td>HAM_0003511</td>\n",
       "      <td>ISIC_0024321</td>\n",
       "      <td>nv</td>\n",
       "      <td>follow_up</td>\n",
       "      <td>35.0</td>\n",
       "      <td>male</td>\n",
       "      <td>lower extremity</td>\n",
       "    </tr>\n",
       "    <tr>\n",
       "      <th>3788</th>\n",
       "      <td>HAM_0001538</td>\n",
       "      <td>ISIC_0024322</td>\n",
       "      <td>nv</td>\n",
       "      <td>follow_up</td>\n",
       "      <td>65.0</td>\n",
       "      <td>female</td>\n",
       "      <td>foot</td>\n",
       "    </tr>\n",
       "    <tr>\n",
       "      <th>2126</th>\n",
       "      <td>HAM_0002493</td>\n",
       "      <td>ISIC_0024323</td>\n",
       "      <td>mel</td>\n",
       "      <td>histo</td>\n",
       "      <td>50.0</td>\n",
       "      <td>male</td>\n",
       "      <td>lower extremity</td>\n",
       "    </tr>\n",
       "    <tr>\n",
       "      <th>35</th>\n",
       "      <td>HAM_0000351</td>\n",
       "      <td>ISIC_0024324</td>\n",
       "      <td>bkl</td>\n",
       "      <td>histo</td>\n",
       "      <td>85.0</td>\n",
       "      <td>male</td>\n",
       "      <td>back</td>\n",
       "    </tr>\n",
       "    <tr>\n",
       "      <th>5621</th>\n",
       "      <td>HAM_0002044</td>\n",
       "      <td>ISIC_0024325</td>\n",
       "      <td>nv</td>\n",
       "      <td>follow_up</td>\n",
       "      <td>40.0</td>\n",
       "      <td>female</td>\n",
       "      <td>trunk</td>\n",
       "    </tr>\n",
       "    <tr>\n",
       "      <th>5372</th>\n",
       "      <td>HAM_0001812</td>\n",
       "      <td>ISIC_0024326</td>\n",
       "      <td>nv</td>\n",
       "      <td>follow_up</td>\n",
       "      <td>75.0</td>\n",
       "      <td>male</td>\n",
       "      <td>back</td>\n",
       "    </tr>\n",
       "    <tr>\n",
       "      <th>3160</th>\n",
       "      <td>HAM_0005939</td>\n",
       "      <td>ISIC_0024327</td>\n",
       "      <td>nv</td>\n",
       "      <td>follow_up</td>\n",
       "      <td>50.0</td>\n",
       "      <td>female</td>\n",
       "      <td>foot</td>\n",
       "    </tr>\n",
       "    <tr>\n",
       "      <th>8390</th>\n",
       "      <td>HAM_0002701</td>\n",
       "      <td>ISIC_0024328</td>\n",
       "      <td>nv</td>\n",
       "      <td>histo</td>\n",
       "      <td>55.0</td>\n",
       "      <td>male</td>\n",
       "      <td>back</td>\n",
       "    </tr>\n",
       "    <tr>\n",
       "      <th>9931</th>\n",
       "      <td>HAM_0002954</td>\n",
       "      <td>ISIC_0024329</td>\n",
       "      <td>akiec</td>\n",
       "      <td>histo</td>\n",
       "      <td>75.0</td>\n",
       "      <td>female</td>\n",
       "      <td>lower extremity</td>\n",
       "    </tr>\n",
       "    <tr>\n",
       "      <th>1161</th>\n",
       "      <td>HAM_0006188</td>\n",
       "      <td>ISIC_0024330</td>\n",
       "      <td>df</td>\n",
       "      <td>consensus</td>\n",
       "      <td>40.0</td>\n",
       "      <td>male</td>\n",
       "      <td>lower extremity</td>\n",
       "    </tr>\n",
       "    <tr>\n",
       "      <th>2723</th>\n",
       "      <td>HAM_0004662</td>\n",
       "      <td>ISIC_0024331</td>\n",
       "      <td>bcc</td>\n",
       "      <td>histo</td>\n",
       "      <td>65.0</td>\n",
       "      <td>male</td>\n",
       "      <td>lower extremity</td>\n",
       "    </tr>\n",
       "    <tr>\n",
       "      <th>2735</th>\n",
       "      <td>HAM_0002240</td>\n",
       "      <td>ISIC_0024332</td>\n",
       "      <td>bcc</td>\n",
       "      <td>histo</td>\n",
       "      <td>60.0</td>\n",
       "      <td>male</td>\n",
       "      <td>unknown</td>\n",
       "    </tr>\n",
       "    <tr>\n",
       "      <th>2241</th>\n",
       "      <td>HAM_0007511</td>\n",
       "      <td>ISIC_0024333</td>\n",
       "      <td>mel</td>\n",
       "      <td>histo</td>\n",
       "      <td>85.0</td>\n",
       "      <td>male</td>\n",
       "      <td>lower extremity</td>\n",
       "    </tr>\n",
       "    <tr>\n",
       "      <th>5685</th>\n",
       "      <td>HAM_0001472</td>\n",
       "      <td>ISIC_0024334</td>\n",
       "      <td>nv</td>\n",
       "      <td>follow_up</td>\n",
       "      <td>45.0</td>\n",
       "      <td>female</td>\n",
       "      <td>trunk</td>\n",
       "    </tr>\n",
       "    <tr>\n",
       "      <th>5065</th>\n",
       "      <td>HAM_0004431</td>\n",
       "      <td>ISIC_0024335</td>\n",
       "      <td>nv</td>\n",
       "      <td>follow_up</td>\n",
       "      <td>45.0</td>\n",
       "      <td>female</td>\n",
       "      <td>lower extremity</td>\n",
       "    </tr>\n",
       "    <tr>\n",
       "      <th>...</th>\n",
       "      <td>...</td>\n",
       "      <td>...</td>\n",
       "      <td>...</td>\n",
       "      <td>...</td>\n",
       "      <td>...</td>\n",
       "      <td>...</td>\n",
       "      <td>...</td>\n",
       "    </tr>\n",
       "    <tr>\n",
       "      <th>946</th>\n",
       "      <td>HAM_0006528</td>\n",
       "      <td>ISIC_0034291</td>\n",
       "      <td>bkl</td>\n",
       "      <td>consensus</td>\n",
       "      <td>70.0</td>\n",
       "      <td>female</td>\n",
       "      <td>back</td>\n",
       "    </tr>\n",
       "    <tr>\n",
       "      <th>7593</th>\n",
       "      <td>HAM_0007475</td>\n",
       "      <td>ISIC_0034292</td>\n",
       "      <td>nv</td>\n",
       "      <td>histo</td>\n",
       "      <td>50.0</td>\n",
       "      <td>female</td>\n",
       "      <td>foot</td>\n",
       "    </tr>\n",
       "    <tr>\n",
       "      <th>7799</th>\n",
       "      <td>HAM_0004099</td>\n",
       "      <td>ISIC_0034293</td>\n",
       "      <td>nv</td>\n",
       "      <td>histo</td>\n",
       "      <td>55.0</td>\n",
       "      <td>female</td>\n",
       "      <td>lower extremity</td>\n",
       "    </tr>\n",
       "    <tr>\n",
       "      <th>1522</th>\n",
       "      <td>HAM_0007032</td>\n",
       "      <td>ISIC_0034294</td>\n",
       "      <td>mel</td>\n",
       "      <td>histo</td>\n",
       "      <td>70.0</td>\n",
       "      <td>female</td>\n",
       "      <td>back</td>\n",
       "    </tr>\n",
       "    <tr>\n",
       "      <th>7837</th>\n",
       "      <td>HAM_0001509</td>\n",
       "      <td>ISIC_0034295</td>\n",
       "      <td>nv</td>\n",
       "      <td>histo</td>\n",
       "      <td>25.0</td>\n",
       "      <td>male</td>\n",
       "      <td>lower extremity</td>\n",
       "    </tr>\n",
       "    <tr>\n",
       "      <th>944</th>\n",
       "      <td>HAM_0006528</td>\n",
       "      <td>ISIC_0034296</td>\n",
       "      <td>bkl</td>\n",
       "      <td>consensus</td>\n",
       "      <td>70.0</td>\n",
       "      <td>female</td>\n",
       "      <td>back</td>\n",
       "    </tr>\n",
       "    <tr>\n",
       "      <th>7984</th>\n",
       "      <td>HAM_0001547</td>\n",
       "      <td>ISIC_0034297</td>\n",
       "      <td>nv</td>\n",
       "      <td>histo</td>\n",
       "      <td>25.0</td>\n",
       "      <td>male</td>\n",
       "      <td>lower extremity</td>\n",
       "    </tr>\n",
       "    <tr>\n",
       "      <th>7124</th>\n",
       "      <td>HAM_0007462</td>\n",
       "      <td>ISIC_0034298</td>\n",
       "      <td>nv</td>\n",
       "      <td>histo</td>\n",
       "      <td>25.0</td>\n",
       "      <td>male</td>\n",
       "      <td>neck</td>\n",
       "    </tr>\n",
       "    <tr>\n",
       "      <th>2628</th>\n",
       "      <td>HAM_0007335</td>\n",
       "      <td>ISIC_0034299</td>\n",
       "      <td>bcc</td>\n",
       "      <td>histo</td>\n",
       "      <td>60.0</td>\n",
       "      <td>male</td>\n",
       "      <td>upper extremity</td>\n",
       "    </tr>\n",
       "    <tr>\n",
       "      <th>7518</th>\n",
       "      <td>HAM_0003512</td>\n",
       "      <td>ISIC_0034300</td>\n",
       "      <td>nv</td>\n",
       "      <td>histo</td>\n",
       "      <td>35.0</td>\n",
       "      <td>male</td>\n",
       "      <td>back</td>\n",
       "    </tr>\n",
       "    <tr>\n",
       "      <th>7744</th>\n",
       "      <td>HAM_0001943</td>\n",
       "      <td>ISIC_0034301</td>\n",
       "      <td>nv</td>\n",
       "      <td>histo</td>\n",
       "      <td>30.0</td>\n",
       "      <td>female</td>\n",
       "      <td>lower extremity</td>\n",
       "    </tr>\n",
       "    <tr>\n",
       "      <th>9556</th>\n",
       "      <td>HAM_0004215</td>\n",
       "      <td>ISIC_0034302</td>\n",
       "      <td>nv</td>\n",
       "      <td>consensus</td>\n",
       "      <td>40.0</td>\n",
       "      <td>female</td>\n",
       "      <td>unknown</td>\n",
       "    </tr>\n",
       "    <tr>\n",
       "      <th>236</th>\n",
       "      <td>HAM_0002372</td>\n",
       "      <td>ISIC_0034303</td>\n",
       "      <td>bkl</td>\n",
       "      <td>histo</td>\n",
       "      <td>65.0</td>\n",
       "      <td>male</td>\n",
       "      <td>neck</td>\n",
       "    </tr>\n",
       "    <tr>\n",
       "      <th>7988</th>\n",
       "      <td>HAM_0002257</td>\n",
       "      <td>ISIC_0034304</td>\n",
       "      <td>nv</td>\n",
       "      <td>histo</td>\n",
       "      <td>60.0</td>\n",
       "      <td>male</td>\n",
       "      <td>back</td>\n",
       "    </tr>\n",
       "    <tr>\n",
       "      <th>7925</th>\n",
       "      <td>HAM_0002915</td>\n",
       "      <td>ISIC_0034305</td>\n",
       "      <td>nv</td>\n",
       "      <td>histo</td>\n",
       "      <td>65.0</td>\n",
       "      <td>male</td>\n",
       "      <td>upper extremity</td>\n",
       "    </tr>\n",
       "    <tr>\n",
       "      <th>2597</th>\n",
       "      <td>HAM_0002526</td>\n",
       "      <td>ISIC_0034306</td>\n",
       "      <td>bcc</td>\n",
       "      <td>histo</td>\n",
       "      <td>75.0</td>\n",
       "      <td>male</td>\n",
       "      <td>trunk</td>\n",
       "    </tr>\n",
       "    <tr>\n",
       "      <th>7522</th>\n",
       "      <td>HAM_0000439</td>\n",
       "      <td>ISIC_0034307</td>\n",
       "      <td>nv</td>\n",
       "      <td>histo</td>\n",
       "      <td>65.0</td>\n",
       "      <td>male</td>\n",
       "      <td>back</td>\n",
       "    </tr>\n",
       "    <tr>\n",
       "      <th>7354</th>\n",
       "      <td>HAM_0004272</td>\n",
       "      <td>ISIC_0034308</td>\n",
       "      <td>nv</td>\n",
       "      <td>histo</td>\n",
       "      <td>30.0</td>\n",
       "      <td>male</td>\n",
       "      <td>upper extremity</td>\n",
       "    </tr>\n",
       "    <tr>\n",
       "      <th>9536</th>\n",
       "      <td>HAM_0003810</td>\n",
       "      <td>ISIC_0034309</td>\n",
       "      <td>nv</td>\n",
       "      <td>consensus</td>\n",
       "      <td>40.0</td>\n",
       "      <td>male</td>\n",
       "      <td>unknown</td>\n",
       "    </tr>\n",
       "    <tr>\n",
       "      <th>7758</th>\n",
       "      <td>HAM_0003424</td>\n",
       "      <td>ISIC_0034310</td>\n",
       "      <td>nv</td>\n",
       "      <td>histo</td>\n",
       "      <td>45.0</td>\n",
       "      <td>male</td>\n",
       "      <td>back</td>\n",
       "    </tr>\n",
       "    <tr>\n",
       "      <th>7646</th>\n",
       "      <td>HAM_0007124</td>\n",
       "      <td>ISIC_0034311</td>\n",
       "      <td>nv</td>\n",
       "      <td>histo</td>\n",
       "      <td>55.0</td>\n",
       "      <td>male</td>\n",
       "      <td>back</td>\n",
       "    </tr>\n",
       "    <tr>\n",
       "      <th>9590</th>\n",
       "      <td>HAM_0004216</td>\n",
       "      <td>ISIC_0034312</td>\n",
       "      <td>nv</td>\n",
       "      <td>consensus</td>\n",
       "      <td>40.0</td>\n",
       "      <td>female</td>\n",
       "      <td>unknown</td>\n",
       "    </tr>\n",
       "    <tr>\n",
       "      <th>1565</th>\n",
       "      <td>HAM_0003679</td>\n",
       "      <td>ISIC_0034313</td>\n",
       "      <td>mel</td>\n",
       "      <td>histo</td>\n",
       "      <td>55.0</td>\n",
       "      <td>male</td>\n",
       "      <td>lower extremity</td>\n",
       "    </tr>\n",
       "    <tr>\n",
       "      <th>7550</th>\n",
       "      <td>HAM_0006042</td>\n",
       "      <td>ISIC_0034314</td>\n",
       "      <td>nv</td>\n",
       "      <td>histo</td>\n",
       "      <td>50.0</td>\n",
       "      <td>male</td>\n",
       "      <td>abdomen</td>\n",
       "    </tr>\n",
       "    <tr>\n",
       "      <th>909</th>\n",
       "      <td>HAM_0000754</td>\n",
       "      <td>ISIC_0034315</td>\n",
       "      <td>bkl</td>\n",
       "      <td>consensus</td>\n",
       "      <td>50.0</td>\n",
       "      <td>male</td>\n",
       "      <td>back</td>\n",
       "    </tr>\n",
       "    <tr>\n",
       "      <th>1721</th>\n",
       "      <td>HAM_0004304</td>\n",
       "      <td>ISIC_0034316</td>\n",
       "      <td>mel</td>\n",
       "      <td>histo</td>\n",
       "      <td>85.0</td>\n",
       "      <td>male</td>\n",
       "      <td>upper extremity</td>\n",
       "    </tr>\n",
       "    <tr>\n",
       "      <th>1888</th>\n",
       "      <td>HAM_0006376</td>\n",
       "      <td>ISIC_0034317</td>\n",
       "      <td>mel</td>\n",
       "      <td>histo</td>\n",
       "      <td>70.0</td>\n",
       "      <td>female</td>\n",
       "      <td>lower extremity</td>\n",
       "    </tr>\n",
       "    <tr>\n",
       "      <th>121</th>\n",
       "      <td>HAM_0000344</td>\n",
       "      <td>ISIC_0034318</td>\n",
       "      <td>bkl</td>\n",
       "      <td>histo</td>\n",
       "      <td>55.0</td>\n",
       "      <td>male</td>\n",
       "      <td>trunk</td>\n",
       "    </tr>\n",
       "    <tr>\n",
       "      <th>7440</th>\n",
       "      <td>HAM_0000747</td>\n",
       "      <td>ISIC_0034319</td>\n",
       "      <td>nv</td>\n",
       "      <td>histo</td>\n",
       "      <td>30.0</td>\n",
       "      <td>male</td>\n",
       "      <td>trunk</td>\n",
       "    </tr>\n",
       "    <tr>\n",
       "      <th>7363</th>\n",
       "      <td>HAM_0002244</td>\n",
       "      <td>ISIC_0034320</td>\n",
       "      <td>nv</td>\n",
       "      <td>histo</td>\n",
       "      <td>25.0</td>\n",
       "      <td>female</td>\n",
       "      <td>chest</td>\n",
       "    </tr>\n",
       "  </tbody>\n",
       "</table>\n",
       "<p>10015 rows × 7 columns</p>\n",
       "</div>"
      ],
      "text/plain": [
       "        lesion_id      image_id     dx    dx_type   age     sex  \\\n",
       "4349  HAM_0000550  ISIC_0024306     nv  follow_up  45.0    male   \n",
       "4263  HAM_0003577  ISIC_0024307     nv  follow_up  50.0    male   \n",
       "4217  HAM_0001477  ISIC_0024308     nv  follow_up  55.0  female   \n",
       "3587  HAM_0000484  ISIC_0024309     nv  follow_up  40.0    male   \n",
       "1451  HAM_0003350  ISIC_0024310    mel      histo  60.0    male   \n",
       "4497  HAM_0000981  ISIC_0024311     nv  follow_up  75.0  female   \n",
       "700   HAM_0001359  ISIC_0024312    bkl      histo  75.0    male   \n",
       "2130  HAM_0002869  ISIC_0024313    mel      histo  50.0  female   \n",
       "6803  HAM_0002198  ISIC_0024314     nv      histo  75.0    male   \n",
       "1327  HAM_0007538  ISIC_0024315    mel      histo  55.0    male   \n",
       "5381  HAM_0002718  ISIC_0024316     nv  follow_up  55.0    male   \n",
       "7081  HAM_0003951  ISIC_0024317     nv      histo  35.0  female   \n",
       "1159  HAM_0002450  ISIC_0024318     df  consensus  65.0  female   \n",
       "8123  HAM_0003062  ISIC_0024319     nv      histo  55.0    male   \n",
       "4957  HAM_0005039  ISIC_0024320     nv  follow_up  65.0    male   \n",
       "4211  HAM_0003511  ISIC_0024321     nv  follow_up  35.0    male   \n",
       "3788  HAM_0001538  ISIC_0024322     nv  follow_up  65.0  female   \n",
       "2126  HAM_0002493  ISIC_0024323    mel      histo  50.0    male   \n",
       "35    HAM_0000351  ISIC_0024324    bkl      histo  85.0    male   \n",
       "5621  HAM_0002044  ISIC_0024325     nv  follow_up  40.0  female   \n",
       "5372  HAM_0001812  ISIC_0024326     nv  follow_up  75.0    male   \n",
       "3160  HAM_0005939  ISIC_0024327     nv  follow_up  50.0  female   \n",
       "8390  HAM_0002701  ISIC_0024328     nv      histo  55.0    male   \n",
       "9931  HAM_0002954  ISIC_0024329  akiec      histo  75.0  female   \n",
       "1161  HAM_0006188  ISIC_0024330     df  consensus  40.0    male   \n",
       "2723  HAM_0004662  ISIC_0024331    bcc      histo  65.0    male   \n",
       "2735  HAM_0002240  ISIC_0024332    bcc      histo  60.0    male   \n",
       "2241  HAM_0007511  ISIC_0024333    mel      histo  85.0    male   \n",
       "5685  HAM_0001472  ISIC_0024334     nv  follow_up  45.0  female   \n",
       "5065  HAM_0004431  ISIC_0024335     nv  follow_up  45.0  female   \n",
       "...           ...           ...    ...        ...   ...     ...   \n",
       "946   HAM_0006528  ISIC_0034291    bkl  consensus  70.0  female   \n",
       "7593  HAM_0007475  ISIC_0034292     nv      histo  50.0  female   \n",
       "7799  HAM_0004099  ISIC_0034293     nv      histo  55.0  female   \n",
       "1522  HAM_0007032  ISIC_0034294    mel      histo  70.0  female   \n",
       "7837  HAM_0001509  ISIC_0034295     nv      histo  25.0    male   \n",
       "944   HAM_0006528  ISIC_0034296    bkl  consensus  70.0  female   \n",
       "7984  HAM_0001547  ISIC_0034297     nv      histo  25.0    male   \n",
       "7124  HAM_0007462  ISIC_0034298     nv      histo  25.0    male   \n",
       "2628  HAM_0007335  ISIC_0034299    bcc      histo  60.0    male   \n",
       "7518  HAM_0003512  ISIC_0034300     nv      histo  35.0    male   \n",
       "7744  HAM_0001943  ISIC_0034301     nv      histo  30.0  female   \n",
       "9556  HAM_0004215  ISIC_0034302     nv  consensus  40.0  female   \n",
       "236   HAM_0002372  ISIC_0034303    bkl      histo  65.0    male   \n",
       "7988  HAM_0002257  ISIC_0034304     nv      histo  60.0    male   \n",
       "7925  HAM_0002915  ISIC_0034305     nv      histo  65.0    male   \n",
       "2597  HAM_0002526  ISIC_0034306    bcc      histo  75.0    male   \n",
       "7522  HAM_0000439  ISIC_0034307     nv      histo  65.0    male   \n",
       "7354  HAM_0004272  ISIC_0034308     nv      histo  30.0    male   \n",
       "9536  HAM_0003810  ISIC_0034309     nv  consensus  40.0    male   \n",
       "7758  HAM_0003424  ISIC_0034310     nv      histo  45.0    male   \n",
       "7646  HAM_0007124  ISIC_0034311     nv      histo  55.0    male   \n",
       "9590  HAM_0004216  ISIC_0034312     nv  consensus  40.0  female   \n",
       "1565  HAM_0003679  ISIC_0034313    mel      histo  55.0    male   \n",
       "7550  HAM_0006042  ISIC_0034314     nv      histo  50.0    male   \n",
       "909   HAM_0000754  ISIC_0034315    bkl  consensus  50.0    male   \n",
       "1721  HAM_0004304  ISIC_0034316    mel      histo  85.0    male   \n",
       "1888  HAM_0006376  ISIC_0034317    mel      histo  70.0  female   \n",
       "121   HAM_0000344  ISIC_0034318    bkl      histo  55.0    male   \n",
       "7440  HAM_0000747  ISIC_0034319     nv      histo  30.0    male   \n",
       "7363  HAM_0002244  ISIC_0034320     nv      histo  25.0  female   \n",
       "\n",
       "         localization  \n",
       "4349            trunk  \n",
       "4263  lower extremity  \n",
       "4217            trunk  \n",
       "3587            trunk  \n",
       "1451            chest  \n",
       "4497             back  \n",
       "700   lower extremity  \n",
       "2130             back  \n",
       "6803  lower extremity  \n",
       "1327            trunk  \n",
       "5381             back  \n",
       "7081          abdomen  \n",
       "1159  lower extremity  \n",
       "8123  lower extremity  \n",
       "4957            trunk  \n",
       "4211  lower extremity  \n",
       "3788             foot  \n",
       "2126  lower extremity  \n",
       "35               back  \n",
       "5621            trunk  \n",
       "5372             back  \n",
       "3160             foot  \n",
       "8390             back  \n",
       "9931  lower extremity  \n",
       "1161  lower extremity  \n",
       "2723  lower extremity  \n",
       "2735          unknown  \n",
       "2241  lower extremity  \n",
       "5685            trunk  \n",
       "5065  lower extremity  \n",
       "...               ...  \n",
       "946              back  \n",
       "7593             foot  \n",
       "7799  lower extremity  \n",
       "1522             back  \n",
       "7837  lower extremity  \n",
       "944              back  \n",
       "7984  lower extremity  \n",
       "7124             neck  \n",
       "2628  upper extremity  \n",
       "7518             back  \n",
       "7744  lower extremity  \n",
       "9556          unknown  \n",
       "236              neck  \n",
       "7988             back  \n",
       "7925  upper extremity  \n",
       "2597            trunk  \n",
       "7522             back  \n",
       "7354  upper extremity  \n",
       "9536          unknown  \n",
       "7758             back  \n",
       "7646             back  \n",
       "9590          unknown  \n",
       "1565  lower extremity  \n",
       "7550          abdomen  \n",
       "909              back  \n",
       "1721  upper extremity  \n",
       "1888  lower extremity  \n",
       "121             trunk  \n",
       "7440            trunk  \n",
       "7363            chest  \n",
       "\n",
       "[10015 rows x 7 columns]"
      ]
     },
     "execution_count": 10,
     "metadata": {},
     "output_type": "execute_result"
    }
   ],
   "source": [
    "meta_pd"
   ]
  },
  {
   "cell_type": "code",
   "execution_count": 4,
   "metadata": {},
   "outputs": [],
   "source": [
    "# # Checking null values\n",
    "# no_label = meta_pd[meta_pd['dx'] == np.NaN]\n",
    "\n",
    "# #no_label\n",
    "# zeros = pd.DataFrame(meta_pd.isnull().sum(axis=1)) # All columns should be 0\n",
    "# # zeros = zeros[zeros[0] != 0]\n",
    "# zeros.shape\n",
    "\n",
    "# print(meta_pd.iloc[968])"
   ]
  },
  {
   "cell_type": "code",
   "execution_count": 11,
   "metadata": {},
   "outputs": [
    {
     "data": {
      "text/plain": [
       "lesion_id        0\n",
       "image_id         0\n",
       "dx               0\n",
       "dx_type          0\n",
       "age             57\n",
       "sex              0\n",
       "localization     0\n",
       "dtype: int64"
      ]
     },
     "execution_count": 11,
     "metadata": {},
     "output_type": "execute_result"
    }
   ],
   "source": [
    "meta_pd.isnull().sum()"
   ]
  },
  {
   "cell_type": "code",
   "execution_count": 12,
   "metadata": {},
   "outputs": [],
   "source": [
    "'''Extract data from folders'''\n",
    "\n",
    "def extract_data(folderName):\n",
    "    num_images = len(\n",
    "        [name for name in os.listdir(folderName) \n",
    "         if os.path.isfile(os.path.join(folderName, name))\n",
    "        ])\n",
    "    print(\"number of images: \" + str(num_images))\n",
    "    data = np.zeros(shape=(num_images,IMAGE_SIZE, IMAGE_SIZE, 3), dtype=np.int32) # not sure if int32 is good\n",
    "    count = 0\n",
    "    for filename in sorted(os.listdir(folderName)):\n",
    "        image = io.imread(folderName + '/' + filename)\n",
    "        data[count] = image\n",
    "        count = count + 1\n",
    "    print(count)\n",
    "    return data    "
   ]
  },
  {
   "cell_type": "code",
   "execution_count": 14,
   "metadata": {},
   "outputs": [
    {
     "name": "stdout",
     "output_type": "stream",
     "text": [
      "number of images: 40060\n",
      "40060\n",
      "(40060, 28, 28, 3)\n",
      "<class 'numpy.ndarray'>\n"
     ]
    }
   ],
   "source": [
    "all_data = extract_data('HAM10000/all_data') #change for all_data_128 if want more detailed images\n",
    "print(all_data.shape)\n",
    "print(type(all_data))"
   ]
  },
  {
   "cell_type": "code",
   "execution_count": 15,
   "metadata": {},
   "outputs": [
    {
     "data": {
      "image/png": "[encoded data removed]",
      "text/plain": [
       "<Figure size 432x288 with 2 Axes>"
      ]
     },
     "metadata": {},
     "output_type": "display_data"
    }
   ],
   "source": [
    "# Heath Check to See if we read the train data properly\n",
    "\n",
    "fig, axes = plt.subplots(nrows = 1, ncols = 2)\n",
    "\n",
    "ax = axes.ravel()\n",
    "\n",
    "ax[0].set_title(\"First Image\")\n",
    "ax[0].imshow(all_data[0])\n",
    "\n",
    "ax[1].set_title(\"Second Image\")\n",
    "ax[1].imshow(all_data[10])\n",
    "\n",
    "plt.tight_layout()\n",
    "plt.show()"
   ]
  },
  {
   "cell_type": "code",
   "execution_count": 16,
   "metadata": {},
   "outputs": [
    {
     "data": {
      "image/png": "[encoded data removed]",
      "text/plain": [
       "<Figure size 432x288 with 4 Axes>"
      ]
     },
     "metadata": {},
     "output_type": "display_data"
    }
   ],
   "source": [
    "# Heath Check to See if we read the train data properly\n",
    "\n",
    "fig, axes = plt.subplots(nrows = 2, ncols = 2)\n",
    "\n",
    "ax = axes.ravel()\n",
    "\n",
    "ax[0].set_title(\"Original Image\")\n",
    "ax[0].imshow(all_data[0])\n",
    "\n",
    "ax[1].set_title(\"First Rotation\")\n",
    "ax[1].imshow(all_data[10015])\n",
    "\n",
    "ax[2].set_title(\"Second Rotation\")\n",
    "ax[2].imshow(all_data[10015*2])\n",
    "\n",
    "ax[3].set_title(\"Third Rotation\")\n",
    "ax[3].imshow(all_data[10015*3])\n",
    "\n",
    "\n",
    "\n",
    "plt.tight_layout()\n",
    "plt.show()"
   ]
  },
  {
   "cell_type": "code",
   "execution_count": 17,
   "metadata": {},
   "outputs": [
    {
     "name": "stdout",
     "output_type": "stream",
     "text": [
      "all labels one hot shape\n",
      "(40060, 7)\n",
      "[[0. 0. 0. 0. 0. 1. 0.]\n",
      " [0. 0. 0. 0. 0. 1. 0.]\n",
      " [0. 0. 0. 0. 0. 1. 0.]\n",
      " [0. 0. 0. 0. 0. 1. 0.]\n",
      " [0. 0. 0. 0. 1. 0. 0.]\n",
      " [0. 0. 0. 0. 0. 1. 0.]\n",
      " [0. 0. 1. 0. 0. 0. 0.]\n",
      " [0. 0. 0. 0. 1. 0. 0.]\n",
      " [0. 0. 0. 0. 0. 1. 0.]\n",
      " [0. 0. 0. 0. 1. 0. 0.]\n",
      " [0. 0. 0. 0. 0. 1. 0.]\n",
      " [0. 0. 0. 0. 0. 1. 0.]\n",
      " [0. 0. 0. 1. 0. 0. 0.]\n",
      " [0. 0. 0. 0. 0. 1. 0.]\n",
      " [0. 0. 0. 0. 0. 1. 0.]]\n",
      "[ 1308.  2056.  4396.   460.  4452. 26820.   568.]\n"
     ]
    }
   ],
   "source": [
    "'''One hot encoding'''\n",
    "from sklearn.model_selection import train_test_split # used to shuffle\n",
    "\n",
    "# Converting labels as one hot encoding\n",
    "labels_one_hot = pd.get_dummies(meta_pd['dx']).values.astype(np.float32)\n",
    "sex_one_hot = pd.get_dummies(meta_pd['sex']).values.astype(np.float32)\n",
    "age_one_hot = pd.get_dummies(meta_pd['age']).values.astype(np.float32)\n",
    "loc_one_hot = pd.get_dummies(meta_pd['localization']).values.astype(np.float32)\n",
    "#multiplying by 4\n",
    "all_labels_one_hot = np.concatenate((labels_one_hot, labels_one_hot, labels_one_hot, \n",
    "                                     labels_one_hot), axis=0)\n",
    "\n",
    "#all_labels_one_hot = labels_one_hot\n",
    "\n",
    "\n",
    "print(\"all labels one hot shape\")\n",
    "print(all_labels_one_hot.shape)\n",
    "print(all_labels_one_hot[:15])\n",
    "print(np.sum(all_labels_one_hot, axis = 0))"
   ]
  },
  {
   "cell_type": "code",
   "execution_count": 18,
   "metadata": {},
   "outputs": [
    {
     "name": "stdout",
     "output_type": "stream",
     "text": [
      "(40060, 1)\n"
     ]
    }
   ],
   "source": [
    "# cast meta_pd['dx'] to Begin 0 vs Malignant\n",
    "bvm = np.zeros((meta_pd['dx'].shape[0], 1))\n",
    "for i in range(meta_pd['dx'].shape[0]):\n",
    "    if meta_pd['dx'][i] in (\"akiec\", \"bcc\", \"mel\"):\n",
    "        bvm[i] = 1\n",
    "bvm = np.concatenate((bvm, bvm, bvm, bvm), axis = 0)\n",
    "print(bvm.shape)"
   ]
  },
  {
   "cell_type": "code",
   "execution_count": 19,
   "metadata": {},
   "outputs": [
    {
     "name": "stdout",
     "output_type": "stream",
     "text": [
      "(40060, 4)\n"
     ]
    }
   ],
   "source": [
    "# abbm = Akiec, bcc, benign, mel\n",
    "abbm = np.zeros((meta_pd['dx'].shape[0],4))\n",
    "# size should be 7/ 1/ xxx\n",
    "for i in range(meta_pd['dx'].shape[0]):\n",
    "    if meta_pd['dx'][i] == \"akiec\": #1000\n",
    "        abbm[i,0] = 1\n",
    "    elif meta_pd['dx'][i] == \"bcc\": #0100\n",
    "        abbm[i,1] = 1\n",
    "    elif meta_pd['dx'][i] == \"mel\": #0001\n",
    "        abbm[i,3] = 1\n",
    "    else: #0010\n",
    "        abbm[i,2] = 1\n",
    "abbm = np.concatenate((abbm, abbm, abbm, abbm), axis = 0)\n",
    "print(abbm.shape)"
   ]
  },
  {
   "cell_type": "code",
   "execution_count": 20,
   "metadata": {},
   "outputs": [
    {
     "name": "stdout",
     "output_type": "stream",
     "text": [
      "[ 1308.  2056. 32244.  4452.]\n"
     ]
    }
   ],
   "source": [
    "print(np.sum(abbm, axis = 0))"
   ]
  },
  {
   "cell_type": "code",
   "execution_count": 21,
   "metadata": {},
   "outputs": [],
   "source": [
    "## UPSAMPLING SECTION"
   ]
  },
  {
   "cell_type": "code",
   "execution_count": 22,
   "metadata": {},
   "outputs": [],
   "source": [
    "'''Function to extract data by type'''\n",
    "def extract_samples(data_matrix, labels_matrix):\n",
    "    akiec = []\n",
    "    bcc = []\n",
    "    bkl = []\n",
    "    df = []\n",
    "    mel = []\n",
    "    nv = []\n",
    "    vasc = []\n",
    "    \n",
    "    #saving images per type into a list\n",
    "    for i in range(0, len(data_matrix)):\n",
    "        if labels_matrix[i,0] == 1:\n",
    "            akiec.append(data_matrix[i])\n",
    "        elif labels_matrix[i,1] == 1:\n",
    "            bcc.append(data_matrix[i])\n",
    "        elif labels_matrix[i,2] == 1:\n",
    "            bkl.append(data_matrix[i])\n",
    "        elif labels_matrix[i,3] == 1:\n",
    "            df.append(data_matrix[i])\n",
    "        elif labels_matrix[i,4] == 1:\n",
    "            mel.append(data_matrix[i])\n",
    "        elif labels_matrix[i,5] == 1:\n",
    "            nv.append(data_matrix[i])\n",
    "        elif labels_matrix[i,6] == 1:\n",
    "            vasc.append(data_matrix[i])\n",
    "    \n",
    "    return akiec, bcc, bkl, df, mel, nv, vasc"
   ]
  },
  {
   "cell_type": "code",
   "execution_count": 23,
   "metadata": {},
   "outputs": [],
   "source": [
    "#extracting all data and labels rotating, but with not over or downsampling\n",
    "akiec, bcc, bkl, df, mel, nv, vasc = extract_samples(all_data, all_labels_one_hot)"
   ]
  },
  {
   "cell_type": "code",
   "execution_count": 24,
   "metadata": {
    "scrolled": true
   },
   "outputs": [
    {
     "data": {
      "image/png": "[encoded data removed]",
      "text/plain": [
       "<Figure size 432x288 with 2 Axes>"
      ]
     },
     "metadata": {},
     "output_type": "display_data"
    }
   ],
   "source": [
    "#Sanity check looking at images\n",
    "\n",
    "# Heath Check to See if we read the train data properly\n",
    "\n",
    "fig, axes = plt.subplots(nrows = 1, ncols = 2)\n",
    "\n",
    "ax = axes.ravel()\n",
    "\n",
    "ax[0].set_title(\"akiec\")\n",
    "ax[0].imshow(akiec[10])\n",
    "\n",
    "ax[1].set_title(\"bkl\")\n",
    "ax[1].imshow(bkl[100])\n",
    "\n",
    "plt.tight_layout()\n",
    "plt.show()"
   ]
  },
  {
   "cell_type": "code",
   "execution_count": 25,
   "metadata": {},
   "outputs": [],
   "source": [
    "#columns for one hot encoding\n",
    "cols = ['akiec', 'bcc', 'bkl', 'df', 'mel', 'nv', 'vasc']\n",
    "\n",
    "#creating the one label hot encoding for each of them\n",
    "\n",
    "#AKIEC\n",
    "akiec_labels = pd.DataFrame(index = range(len(akiec)),columns = cols)\n",
    "akiec_labels['akiec'] = akiec_labels['akiec'].fillna(value=1)\n",
    "akiec_labels = akiec_labels.fillna(value = 0)\n",
    "\n",
    "#BCC\n",
    "bcc_labels = pd.DataFrame(index = range(len(bcc)),columns = cols)\n",
    "bcc_labels['bcc'] = bcc_labels['bcc'].fillna(value=1)\n",
    "bcc_labels = bcc_labels.fillna(value = 0)\n",
    "\n",
    "#BKL\n",
    "bkl_labels = pd.DataFrame(index = range(len(bkl)),columns = cols)\n",
    "bkl_labels['bkl'] = bkl_labels['bkl'].fillna(value=1)\n",
    "bkl_labels = bkl_labels.fillna(value = 0)\n",
    "\n",
    "#DF\n",
    "df_labels = pd.DataFrame(index = range(len(df)),columns = cols)\n",
    "df_labels['df'] = df_labels['df'].fillna(value=1)\n",
    "df_labels = df_labels.fillna(value = 0)\n",
    "\n",
    "#MEL\n",
    "mel_labels = pd.DataFrame(index = range(len(mel)),columns = cols)\n",
    "mel_labels['mel'] = mel_labels['mel'].fillna(value=1)\n",
    "mel_labels = mel_labels.fillna(value = 0)\n",
    "\n",
    "#NV\n",
    "nv_labels = pd.DataFrame(index = range(len(nv)),columns = cols)\n",
    "nv_labels['nv'] = nv_labels['nv'].fillna(value=1)\n",
    "nv_labels = nv_labels.fillna(value = 0)\n",
    "\n",
    "#VASC\n",
    "vasc_labels = pd.DataFrame(index = range(len(vasc)),columns = cols)\n",
    "vasc_labels['vasc'] = vasc_labels['vasc'].fillna(value=1)\n",
    "vasc_labels = vasc_labels.fillna(value = 0)"
   ]
  },
  {
   "cell_type": "code",
   "execution_count": 26,
   "metadata": {},
   "outputs": [
    {
     "data": {
      "text/html": [
       "<div>\n",
       "<style scoped>\n",
       "    .dataframe tbody tr th:only-of-type {\n",
       "        vertical-align: middle;\n",
       "    }\n",
       "\n",
       "    .dataframe tbody tr th {\n",
       "        vertical-align: top;\n",
       "    }\n",
       "\n",
       "    .dataframe thead th {\n",
       "        text-align: right;\n",
       "    }\n",
       "</style>\n",
       "<table border=\"1\" class=\"dataframe\">\n",
       "  <thead>\n",
       "    <tr style=\"text-align: right;\">\n",
       "      <th></th>\n",
       "      <th>akiec</th>\n",
       "      <th>bcc</th>\n",
       "      <th>bkl</th>\n",
       "      <th>df</th>\n",
       "      <th>mel</th>\n",
       "      <th>nv</th>\n",
       "      <th>vasc</th>\n",
       "    </tr>\n",
       "  </thead>\n",
       "  <tbody>\n",
       "    <tr>\n",
       "      <th>0</th>\n",
       "      <td>1</td>\n",
       "      <td>0</td>\n",
       "      <td>0</td>\n",
       "      <td>0</td>\n",
       "      <td>0</td>\n",
       "      <td>0</td>\n",
       "      <td>0</td>\n",
       "    </tr>\n",
       "    <tr>\n",
       "      <th>1</th>\n",
       "      <td>1</td>\n",
       "      <td>0</td>\n",
       "      <td>0</td>\n",
       "      <td>0</td>\n",
       "      <td>0</td>\n",
       "      <td>0</td>\n",
       "      <td>0</td>\n",
       "    </tr>\n",
       "    <tr>\n",
       "      <th>2</th>\n",
       "      <td>1</td>\n",
       "      <td>0</td>\n",
       "      <td>0</td>\n",
       "      <td>0</td>\n",
       "      <td>0</td>\n",
       "      <td>0</td>\n",
       "      <td>0</td>\n",
       "    </tr>\n",
       "    <tr>\n",
       "      <th>3</th>\n",
       "      <td>1</td>\n",
       "      <td>0</td>\n",
       "      <td>0</td>\n",
       "      <td>0</td>\n",
       "      <td>0</td>\n",
       "      <td>0</td>\n",
       "      <td>0</td>\n",
       "    </tr>\n",
       "    <tr>\n",
       "      <th>4</th>\n",
       "      <td>1</td>\n",
       "      <td>0</td>\n",
       "      <td>0</td>\n",
       "      <td>0</td>\n",
       "      <td>0</td>\n",
       "      <td>0</td>\n",
       "      <td>0</td>\n",
       "    </tr>\n",
       "  </tbody>\n",
       "</table>\n",
       "</div>"
      ],
      "text/plain": [
       "   akiec  bcc  bkl  df  mel  nv  vasc\n",
       "0      1    0    0   0    0   0     0\n",
       "1      1    0    0   0    0   0     0\n",
       "2      1    0    0   0    0   0     0\n",
       "3      1    0    0   0    0   0     0\n",
       "4      1    0    0   0    0   0     0"
      ]
     },
     "execution_count": 26,
     "metadata": {},
     "output_type": "execute_result"
    }
   ],
   "source": [
    "akiec_labels.head()\n",
    "# bcc_labels.head()\n",
    "# bkl_labels.head()\n",
    "# df_labels.head()\n",
    "# mel_labels.head()\n",
    "# nv_labels.head()\n",
    "# vasc_labels.head()"
   ]
  },
  {
   "cell_type": "code",
   "execution_count": 27,
   "metadata": {},
   "outputs": [
    {
     "data": {
      "text/plain": [
       "(1308, 7)"
      ]
     },
     "execution_count": 27,
     "metadata": {},
     "output_type": "execute_result"
    }
   ],
   "source": [
    "akiec_labels.shape\n",
    "# bcc_labels.shape\n",
    "# bkl_labels.shape\n",
    "# df_labels.shape\n",
    "# mel_labels.shape\n",
    "# nv_labels.shape\n",
    "# vasc_labels.shape"
   ]
  },
  {
   "cell_type": "code",
   "execution_count": 28,
   "metadata": {},
   "outputs": [
    {
     "data": {
      "image/png": "[encoded data removed]",
      "text/plain": [
       "<Figure size 432x288 with 2 Axes>"
      ]
     },
     "metadata": {},
     "output_type": "display_data"
    }
   ],
   "source": [
    "#Sanity check looking at images\n",
    "\n",
    "# Heath Check to See if we read the train data properly\n",
    "\n",
    "fig, axes = plt.subplots(nrows = 1, ncols = 2)\n",
    "\n",
    "ax = axes.ravel()\n",
    "\n",
    "ax[0].set_title(\"First Image\")\n",
    "ax[0].imshow(akiec[10])\n",
    "\n",
    "ax[1].set_title(\"Second Image\")\n",
    "ax[1].imshow(bkl[100])\n",
    "\n",
    "plt.tight_layout()\n",
    "plt.show()"
   ]
  },
  {
   "cell_type": "code",
   "execution_count": 29,
   "metadata": {},
   "outputs": [],
   "source": [
    "#Creating Training Datasets\n",
    "test_size = 0.2\n",
    "train_size = 1-test_size\n",
    "\n",
    "#integers for slicing\n",
    "akiec_train_size = int(len(akiec)*train_size)\n",
    "bcc_train_size = int(len(bcc)*train_size)\n",
    "bkl_train_size = int(len(bkl)*train_size)\n",
    "df_train_size = int(len(df)*train_size)\n",
    "mel_train_size = int(len(mel)*train_size)\n",
    "nv_train_size = int(len(nv)*train_size)\n",
    "vasc_train_size = int(len(vasc)*train_size)\n",
    "\n",
    "#lists of training cancers and their dataframe labels\n",
    "akiec_train = akiec[0:akiec_train_size]\n",
    "akiec_train_labels = akiec_labels[0:akiec_train_size]\n",
    "\n",
    "\n",
    "bcc_train = bcc[0:bcc_train_size]\n",
    "bcc_train_labels = bcc_labels[0:bcc_train_size]\n",
    "\n",
    "bkl_train = bkl[0:bkl_train_size]\n",
    "bkl_train_labels = bkl_labels[0:bkl_train_size]\n",
    "\n",
    "df_train = df[0:df_train_size]\n",
    "df_train_labels = df_labels[0:df_train_size]\n",
    "\n",
    "mel_train = mel[0:mel_train_size]\n",
    "mel_train_labels = mel_labels[0:mel_train_size]\n",
    "\n",
    "nv_train = nv[0:nv_train_size]\n",
    "nv_train_labels = nv_labels[0:nv_train_size]\n",
    "\n",
    "vasc_train = vasc[0:vasc_train_size]\n",
    "vasc_train_labels = vasc_labels[0:vasc_train_size]\n",
    "\n"
   ]
  },
  {
   "cell_type": "code",
   "execution_count": 30,
   "metadata": {},
   "outputs": [
    {
     "data": {
      "image/png": "[encoded data removed]",
      "text/plain": [
       "<Figure size 432x288 with 2 Axes>"
      ]
     },
     "metadata": {},
     "output_type": "display_data"
    }
   ],
   "source": [
    "#Sanity check looking at images\n",
    "\n",
    "# Heath Check to See if we read the train data properly\n",
    "\n",
    "fig, axes = plt.subplots(nrows = 1, ncols = 2)\n",
    "\n",
    "ax = axes.ravel()\n",
    "\n",
    "ax[0].set_title(\"First Image\")\n",
    "ax[0].imshow(akiec_train[10])\n",
    "\n",
    "ax[1].set_title(\"Second Image\")\n",
    "ax[1].imshow(bkl_train[100])\n",
    "\n",
    "plt.tight_layout()\n",
    "plt.show()"
   ]
  },
  {
   "cell_type": "code",
   "execution_count": 31,
   "metadata": {},
   "outputs": [
    {
     "name": "stdout",
     "output_type": "stream",
     "text": [
      "454\n",
      "454\n"
     ]
    }
   ],
   "source": [
    "print(len(vasc_train))\n",
    "print(len(vasc_train_labels))"
   ]
  },
  {
   "cell_type": "code",
   "execution_count": 32,
   "metadata": {},
   "outputs": [],
   "source": [
    "#lists of testing cancers\n",
    "akiec_test = akiec[akiec_train_size:]\n",
    "akiec_test_labels = akiec_labels[akiec_train_size:]\n",
    "\n",
    "bcc_test = bcc[bcc_train_size:]\n",
    "bcc_test_labels = bcc_labels[bcc_train_size:]\n",
    "\n",
    "bkl_test = bkl[bkl_train_size:]\n",
    "bkl_test_labels = bkl_labels[bkl_train_size:]\n",
    "\n",
    "df_test = df[df_train_size:]\n",
    "df_test_labels = df_labels[df_train_size:]\n",
    "\n",
    "mel_test = mel[mel_train_size:]\n",
    "mel_test_labels = mel_labels[mel_train_size:]\n",
    "\n",
    "nv_test = nv[nv_train_size:]\n",
    "nv_test_labels = nv_labels[nv_train_size:]\n",
    "\n",
    "vasc_test = vasc[vasc_train_size:]\n",
    "vasc_test_labels = vasc_labels[vasc_train_size:]"
   ]
  },
  {
   "cell_type": "code",
   "execution_count": 33,
   "metadata": {},
   "outputs": [],
   "source": [
    "#cell intentionally left blank"
   ]
  },
  {
   "cell_type": "code",
   "execution_count": 34,
   "metadata": {},
   "outputs": [
    {
     "name": "stdout",
     "output_type": "stream",
     "text": [
      "akiec train: 16736, akiec test:524\n",
      "akiec labels train: 16736, akiec test labels:524\n",
      "bcc train: 16440, bcc test:824\n",
      "bcc train labels: 16440, bcc test labels:824\n",
      "bkl train: 17580, bkl test:1760\n",
      "bkl train labels: 17580, bkl test labels:1760\n",
      "df train: 1472, df test:184\n",
      "df train labels: 1472, df test labels:184\n",
      "mel train: 17805, mel test:1782\n",
      "mel train labels: 17805, mel test labels:1782\n",
      "nv train: 21456, nv test:10728\n",
      "nv train labels: 21456, nv test labels:10728\n",
      "vasc train: 12712, vasc test:228\n",
      "vasc train labels: 12712, vasc test labels:228\n"
     ]
    }
   ],
   "source": [
    "#Sampling according to our factors\n",
    "factor_test = 2\n",
    "\n",
    "factor_akiec = 16\n",
    "akiec_train, akiec_test = akiec_train * factor_akiec, akiec_test * factor_test\n",
    "akiec_train_labels = pd.concat([akiec_train_labels]*factor_akiec)\n",
    "akiec_test_labels = pd.concat([akiec_test_labels]*factor_test)\n",
    "\n",
    "factor_bcc = 10\n",
    "bcc_train, bcc_test = bcc_train * factor_bcc, bcc_test * factor_test\n",
    "bcc_train_labels = pd.concat([bcc_train_labels]*factor_bcc)\n",
    "bcc_test_labels = pd.concat([bcc_test_labels]*factor_test)\n",
    "\n",
    "factor_bkl = 5\n",
    "bkl_train, bkl_test = bkl_train * factor_bkl, bkl_test * factor_test\n",
    "bkl_train_labels = pd.concat([bkl_train_labels]*factor_bkl)\n",
    "bkl_test_labels = pd.concat([bkl_test_labels]*factor_test)\n",
    "\n",
    "factor_df = 4\n",
    "df_train, df_test = df_train * factor_df, df_test * factor_test\n",
    "df_train_labels = pd.concat([df_train_labels] * factor_df)\n",
    "df_test_labels = pd.concat([df_test_labels] * factor_test)\n",
    "\n",
    "factor_mel = 5\n",
    "mel_train, mel_test = mel_train * factor_mel, mel_test * factor_test\n",
    "mel_train_labels = pd.concat([mel_train_labels]*factor_mel)\n",
    "mel_test_labels = pd.concat([mel_test_labels]*factor_test)\n",
    "\n",
    "factor_nv = 1\n",
    "nv_train, nv_test = nv_train * factor_nv, nv_test * factor_test\n",
    "nv_train_labels = pd.concat([nv_train_labels]*factor_nv)\n",
    "nv_test_labels = pd.concat([nv_test_labels]*factor_test)\n",
    "\n",
    "factor_vasc = 28\n",
    "vasc_train, vasc_test = vasc_train * factor_vasc, vasc_test * factor_test\n",
    "vasc_train_labels = pd.concat([vasc_train_labels]*factor_vasc)\n",
    "vasc_test_labels = pd.concat([vasc_test_labels]*factor_test)\n",
    "\n",
    "print(\"akiec train: \" + str(len(akiec_train)) + \", akiec test:\" + str(len(akiec_test)))\n",
    "print(\"akiec labels train: \" + str(len(akiec_train_labels)) + \", akiec test labels:\" + str(len(akiec_test_labels)))\n",
    "\n",
    "print(\"bcc train: \" + str(len(bcc_train)) + \", bcc test:\" + str(len(bcc_test)))\n",
    "print(\"bcc train labels: \" + str(len(bcc_train_labels)) + \", bcc test labels:\" + str(len(bcc_test_labels)))\n",
    "\n",
    "print(\"bkl train: \" + str(len(bkl_train)) + \", bkl test:\" + str(len(bkl_test)))\n",
    "print(\"bkl train labels: \" + str(len(bkl_train_labels)) + \", bkl test labels:\" + str(len(bkl_test_labels)))\n",
    "\n",
    "print(\"df train: \" + str(len(df_train)) + \", df test:\" + str(len(df_test)))\n",
    "print(\"df train labels: \" + str(len(df_train_labels)) + \", df test labels:\" + str(len(df_test_labels)))\n",
    "\n",
    "print(\"mel train: \" + str(len(mel_train)) + \", mel test:\" + str(len(mel_test)))\n",
    "print(\"mel train labels: \" + str(len(mel_train_labels)) + \", mel test labels:\" + str(len(mel_test_labels)))\n",
    "\n",
    "print(\"nv train: \" + str(len(nv_train)) + \", nv test:\" + str(len(nv_test)))\n",
    "print(\"nv train labels: \" + str(len(nv_train_labels)) + \", nv test labels:\" + str(len(nv_test_labels)))\n",
    "\n",
    "print(\"vasc train: \" + str(len(vasc_train)) + \", vasc test:\" + str(len(vasc_test)))\n",
    "print(\"vasc train labels: \" + str(len(vasc_train_labels)) + \", vasc test labels:\" + str(len(vasc_test_labels)))\n"
   ]
  },
  {
   "cell_type": "code",
   "execution_count": 35,
   "metadata": {},
   "outputs": [
    {
     "data": {
      "image/png": "[encoded data removed]",
      "text/plain": [
       "<Figure size 432x288 with 2 Axes>"
      ]
     },
     "metadata": {},
     "output_type": "display_data"
    }
   ],
   "source": [
    "#Sanity check looking at images\n",
    "\n",
    "#printing after multiplying datasets\n",
    "\n",
    "fig, axes = plt.subplots(nrows = 1, ncols = 2)\n",
    "\n",
    "ax = axes.ravel()\n",
    "\n",
    "ax[0].set_title(\"First Image\")\n",
    "ax[0].imshow(akiec_train[10])\n",
    "\n",
    "ax[1].set_title(\"Second Image\")\n",
    "ax[1].imshow(bcc_train[100])\n",
    "\n",
    "plt.tight_layout()\n",
    "plt.show()"
   ]
  },
  {
   "cell_type": "code",
   "execution_count": 36,
   "metadata": {},
   "outputs": [],
   "source": [
    "#making numpy array of images from the list of each image type\n",
    "data_train = []\n",
    "data_train.extend(akiec_train)\n",
    "data_train.extend(bcc_train)\n",
    "data_train.extend(bkl_train)\n",
    "data_train.extend(df_train)\n",
    "data_train.extend(mel_train)\n",
    "data_train.extend(nv_train)\n",
    "data_train.extend(vasc_train)\n",
    "\n",
    "\n",
    "#pairing labels\n",
    "labels_train = akiec_train_labels.append(bcc_train_labels)\n",
    "labels_train = labels_train.append(bkl_train_labels)\n",
    "labels_train = labels_train.append(df_train_labels)\n",
    "labels_train = labels_train.append(mel_train_labels)\n",
    "labels_train = labels_train.append(nv_train_labels)\n",
    "labels_train = labels_train.append(vasc_train_labels)"
   ]
  },
  {
   "cell_type": "code",
   "execution_count": 37,
   "metadata": {},
   "outputs": [
    {
     "data": {
      "image/png": "[encoded data removed]",
      "text/plain": [
       "<Figure size 432x288 with 2 Axes>"
      ]
     },
     "metadata": {},
     "output_type": "display_data"
    }
   ],
   "source": [
    "#Sanity check looking at images\n",
    "\n",
    "# Heath Check to See if we read the train data properly\n",
    "\n",
    "fig, axes = plt.subplots(nrows = 1, ncols = 2)\n",
    "\n",
    "ax = axes.ravel()\n",
    "\n",
    "ax[0].set_title(\"First Image\")\n",
    "ax[0].imshow(data_train[10])\n",
    "\n",
    "#because there are 16,736 akiec, so the hundredth bcc should be 16,736 + 100 = 16,836\n",
    "ax[1].set_title(\"Second Image\")\n",
    "ax[1].imshow(data_train[16836]) \n",
    "\n",
    "plt.tight_layout()\n",
    "plt.show()"
   ]
  },
  {
   "cell_type": "code",
   "execution_count": 38,
   "metadata": {},
   "outputs": [
    {
     "name": "stdout",
     "output_type": "stream",
     "text": [
      "Data train shape:\n",
      "(104201, 28, 28, 3)\n",
      "<class 'numpy.ndarray'>\n",
      "Labels train length:\n",
      "(104201, 7)\n",
      "<class 'numpy.ndarray'>\n"
     ]
    }
   ],
   "source": [
    "#converting to numpy array\n",
    "data_train = np.asarray(data_train)\n",
    "labels_train = np.asarray(labels_train)\n",
    "\n",
    "\n",
    "print(\"Data train shape:\")\n",
    "print(data_train.shape)\n",
    "print(type(data_train))\n",
    "print(\"Labels train length:\")\n",
    "print(labels_train.shape)\n",
    "print(type(labels_train))"
   ]
  },
  {
   "cell_type": "code",
   "execution_count": 39,
   "metadata": {},
   "outputs": [
    {
     "data": {
      "image/png": "[encoded data removed]",
      "text/plain": [
       "<Figure size 432x288 with 2 Axes>"
      ]
     },
     "metadata": {},
     "output_type": "display_data"
    },
    {
     "name": "stdout",
     "output_type": "stream",
     "text": [
      "[1 0 0 0 0 0 0]\n",
      "[0 1 0 0 0 0 0]\n"
     ]
    }
   ],
   "source": [
    "#Sanity check looking at images\n",
    "\n",
    "# Heath Check to See if we read the train data properly\n",
    "\n",
    "fig, axes = plt.subplots(nrows = 1, ncols = 2)\n",
    "\n",
    "ax = axes.ravel()\n",
    "\n",
    "ax[0].set_title(\"First Image\")\n",
    "ax[0].imshow(data_train[10])\n",
    "\n",
    "#because there are 16,736 akiec, so the hundredth bkl should be 16,736 + 100 = 16,836\n",
    "ax[1].set_title(\"Second Image\")\n",
    "ax[1].imshow(data_train[16836]) \n",
    "\n",
    "plt.tight_layout()\n",
    "plt.show()\n",
    "\n",
    "#if labels are to match they should be 1 in the first column, then 1 in the second column\n",
    "print(labels_train[10])\n",
    "print(labels_train[16836])"
   ]
  },
  {
   "cell_type": "code",
   "execution_count": 40,
   "metadata": {
    "scrolled": true
   },
   "outputs": [
    {
     "name": "stdout",
     "output_type": "stream",
     "text": [
      "Data test shape:\n",
      "(16030, 28, 28, 3)\n",
      "<class 'numpy.ndarray'>\n",
      "Labels test length:\n",
      "(16030, 7)\n",
      "<class 'numpy.ndarray'>\n"
     ]
    }
   ],
   "source": [
    "data_test = []\n",
    "data_test.extend(akiec_test)\n",
    "data_test.extend(bcc_test)\n",
    "data_test.extend(bkl_test)\n",
    "data_test.extend(df_test)\n",
    "data_test.extend(mel_test)\n",
    "data_test.extend(nv_test)\n",
    "data_test.extend(vasc_test)\n",
    "\n",
    "\n",
    "\n",
    "#pairing labels\n",
    "labels_test = akiec_test_labels.append(bcc_test_labels)\n",
    "labels_test = labels_test.append(bkl_test_labels)\n",
    "labels_test = labels_test.append(df_test_labels)\n",
    "labels_test = labels_test.append(mel_test_labels)\n",
    "labels_test = labels_test.append(nv_test_labels)\n",
    "labels_test = labels_test.append(vasc_test_labels)\n",
    "\n",
    "#converting to numpy array\n",
    "data_test = np.asarray(data_test)\n",
    "labels_test = np.asarray(labels_test)\n",
    "\n",
    "\n",
    "print(\"Data test shape:\")\n",
    "print(data_test.shape)\n",
    "print(type(data_test))\n",
    "print(\"Labels test length:\")\n",
    "print(labels_test.shape)\n",
    "print(type(labels_test))\n",
    "\n"
   ]
  },
  {
   "cell_type": "code",
   "execution_count": 41,
   "metadata": {
    "scrolled": true
   },
   "outputs": [
    {
     "data": {
      "text/plain": [
       "array([[1, 0, 0, ..., 0, 0, 0],\n",
       "       [1, 0, 0, ..., 0, 0, 0],\n",
       "       [1, 0, 0, ..., 0, 0, 0],\n",
       "       ...,\n",
       "       [0, 0, 0, ..., 0, 0, 1],\n",
       "       [0, 0, 0, ..., 0, 0, 1],\n",
       "       [0, 0, 0, ..., 0, 0, 1]])"
      ]
     },
     "execution_count": 41,
     "metadata": {},
     "output_type": "execute_result"
    }
   ],
   "source": [
    "labels_train"
   ]
  },
  {
   "cell_type": "code",
   "execution_count": 42,
   "metadata": {},
   "outputs": [],
   "source": [
    "def cast_label(old_labels, label_type): #014\n",
    "    length = old_labels.shape[0]\n",
    "    if old_labels.shape[1] != 7:\n",
    "        raise Exception(\"Wrong Size\")\n",
    "    if (label_type is \"bvm\"):\n",
    "        labels = np.zeros((length, 1))\n",
    "        labels[:,0] = old_labels[:,0] + old_labels[:,1] + old_labels[:,4]\n",
    "    if (label_type is \"abbm\"):\n",
    "        labels = np.zeros((length, 4))\n",
    "        labels[:,0] = old_labels[:,0]\n",
    "        labels[:,1] = old_labels[:,1]\n",
    "        labels[:,2] = old_labels[:,4]\n",
    "        labels[:,3] = 1 - labels[:,0] - labels[:,1] - labels[:,2]\n",
    "    print(labels.shape)\n",
    "    return labels"
   ]
  },
  {
   "cell_type": "code",
   "execution_count": 43,
   "metadata": {},
   "outputs": [
    {
     "name": "stdout",
     "output_type": "stream",
     "text": [
      "(104201, 7)\n"
     ]
    }
   ],
   "source": [
    "print(labels_train.shape)"
   ]
  },
  {
   "cell_type": "code",
   "execution_count": 44,
   "metadata": {},
   "outputs": [
    {
     "name": "stdout",
     "output_type": "stream",
     "text": [
      "(104201, 4)\n",
      "(16030, 4)\n"
     ]
    }
   ],
   "source": [
    "# cast labels_train and labels_test\n",
    "data_label = abbm # could be all_labels_one_hot / bvm/ abbm\n",
    "labels_train = cast_label(labels_train, \"abbm\")\n",
    "labels_test = cast_label(labels_test, \"abbm\")\n",
    "\n",
    "NUM_LABELS = labels_train.shape[1]"
   ]
  },
  {
   "cell_type": "code",
   "execution_count": 45,
   "metadata": {},
   "outputs": [
    {
     "name": "stdout",
     "output_type": "stream",
     "text": [
      "upsample\n"
     ]
    }
   ],
   "source": [
    "# print(labels_train)\n",
    "print(sample_of_choice)"
   ]
  },
  {
   "cell_type": "code",
   "execution_count": 46,
   "metadata": {},
   "outputs": [
    {
     "name": "stdout",
     "output_type": "stream",
     "text": [
      "is upsamepled\n"
     ]
    }
   ],
   "source": [
    "if sample_of_choice != \"upsample\":\n",
    "    # Shuffle labels/data into train and test sets\n",
    "    #this is splitting all data into train and test, and also the labels\n",
    "    print(\"is not upsamepled\")\n",
    "    data_train, data_test, labels_train, labels_test = train_test_split(all_data, data_label, test_size = 0.30)\n",
    "\n",
    "else:\n",
    "    #effectively taking out 10% of the sample, just trying to use this function\n",
    "    print(\"is upsamepled\")\n",
    "    data_train, not_used_data_test, labels_train, not_used_labels_test = train_test_split(data_train, labels_train, test_size = 0.1)\n",
    "    not_used_data_train, data_test, not_used_labels_train, labels_test = train_test_split(data_test, labels_test, test_size = 0.9)\n",
    "    "
   ]
  },
  {
   "cell_type": "code",
   "execution_count": 47,
   "metadata": {},
   "outputs": [
    {
     "name": "stdout",
     "output_type": "stream",
     "text": [
      "data train shape\n",
      "(93780, 28, 28, 3)\n",
      "labels train shape\n",
      "(93780, 4)\n",
      "\n",
      "\n",
      "data test shape\n",
      "(14427, 28, 28, 3)\n",
      "labels test shape\n",
      "(14427, 4)\n"
     ]
    }
   ],
   "source": [
    "\n",
    "print(\"data train shape\")\n",
    "print(data_train.shape)\n",
    "print(\"labels train shape\")\n",
    "print(labels_train.shape)\n",
    "\n",
    "print(\"\\n\")\n",
    "\n",
    "print(\"data test shape\")\n",
    "print(data_test.shape)\n",
    "print(\"labels test shape\")\n",
    "print(labels_test.shape)"
   ]
  },
  {
   "cell_type": "code",
   "execution_count": 48,
   "metadata": {},
   "outputs": [
    {
     "data": {
      "image/png": "[encoded data removed]",
      "text/plain": [
       "<Figure size 432x288 with 2 Axes>"
      ]
     },
     "metadata": {},
     "output_type": "display_data"
    }
   ],
   "source": [
    "#Sanity check looking at images\n",
    "\n",
    "# Heath Check to See if we read the train data properly\n",
    "\n",
    "fig, axes = plt.subplots(nrows = 1, ncols = 2)\n",
    "\n",
    "ax = axes.ravel()\n",
    "\n",
    "ax[0].set_title(\"First Image\")\n",
    "ax[0].imshow(data_train[2000])\n",
    "\n",
    "ax[1].set_title(\"Second Image\")\n",
    "ax[1].imshow(data_train[len(data_train)-10000])\n",
    "\n",
    "plt.tight_layout()\n",
    "plt.show()"
   ]
  },
  {
   "cell_type": "code",
   "execution_count": null,
   "metadata": {},
   "outputs": [],
   "source": []
  },
  {
   "cell_type": "code",
   "execution_count": 49,
   "metadata": {},
   "outputs": [],
   "source": [
    "# Normalizing data\n",
    "#how is that normalizing? aren't we hardcoding this?\n",
    "#data_train = (data_train - 128.0) / 128\n",
    "#data_test = (data_test - 128.0) / 128\n",
    "\n",
    "#2nd choice of normalization\n",
    "#finding normalization parameters\n",
    "data_train_min = data_train.min(axis=(1, 2), keepdims=True)\n",
    "data_train_max = data_train.max(axis=(1, 2), keepdims=True)\n",
    "data_test_min = data_test.min(axis=(1, 2), keepdims=True)\n",
    "data_test_max = data_test.max(axis=(1, 2), keepdims=True)\n",
    "data_train = (data_train - data_train_min)/(data_train_max-data_train_min) #normalizing the datasets\n",
    "data_test = (data_test - data_test_min)/(data_test_max-data_test_min) #normalizing the datasets\n",
    "\n",
    "#3rd choice of normalization\n",
    "# data_train_mean = data_train.mean(axis=(1, 2), keepdims=True)\n",
    "# data_train_std = data_train.std(axis=(1, 2), keepdims=True)\n",
    "# data_test_mean = data_test.mean(axis=(1, 2), keepdims=True) \n",
    "# data_test_std = data_test.std(axis=(1, 2), keepdims=True)\n",
    "# data_train = (data_train - data_train_mean)/(data_train_std) #normalizing the datasets\n",
    "# data_test = (data_test - data_test_mean)/(data_test_std) #normalizing the datasets\n",
    "\n",
    "#why is that hardcoded?\n",
    "VALIDATION_SIZE = 1000\n",
    "\n",
    "#what is Cyril doing here?\n",
    "validation_data = data_train[:VALIDATION_SIZE, :, :, :]\n",
    "validation_labels = labels_train[:VALIDATION_SIZE]\n",
    "data_train = data_train[VALIDATION_SIZE:, :, :, :]\n",
    "labels_train = labels_train[VALIDATION_SIZE:]\n"
   ]
  },
  {
   "cell_type": "code",
   "execution_count": 50,
   "metadata": {},
   "outputs": [
    {
     "data": {
      "image/png": "[encoded data removed]",
      "text/plain": [
       "<Figure size 432x288 with 2 Axes>"
      ]
     },
     "metadata": {},
     "output_type": "display_data"
    }
   ],
   "source": [
    "#Sanity check looking at images\n",
    "\n",
    "# Heath Check to See if we read the train data properly\n",
    "\n",
    "fig, axes = plt.subplots(nrows = 1, ncols = 2)\n",
    "\n",
    "ax = axes.ravel()\n",
    "\n",
    "ax[0].set_title(\"First Image\")\n",
    "ax[0].imshow(data_train[2])\n",
    "\n",
    "ax[1].set_title(\"Second Image\")\n",
    "ax[1].imshow(data_test[2])\n",
    "\n",
    "plt.tight_layout()\n",
    "plt.show()"
   ]
  },
  {
   "cell_type": "code",
   "execution_count": 51,
   "metadata": {},
   "outputs": [
    {
     "name": "stdout",
     "output_type": "stream",
     "text": [
      "this is the data train set\n",
      "(92780, 28, 28, 3)\n",
      "(92780, 4)\n",
      "this is the data test set\n",
      "(14427, 28, 28, 3)\n",
      "(14427, 4)\n",
      "this is the validation data set\n",
      "(1000, 28, 28, 3)\n",
      "(1000, 4)\n"
     ]
    }
   ],
   "source": [
    "# Health check to see if we have the correct number of arrays\n",
    "print(\"this is the data train set\")\n",
    "print(data_train.shape)\n",
    "print(labels_train.shape)\n",
    "\n",
    "print(\"this is the data test set\")\n",
    "print(data_test.shape)\n",
    "print(labels_test.shape)\n",
    "\n",
    "print(\"this is the validation data set\")\n",
    "print(validation_data.shape)\n",
    "print(validation_labels.shape)\n",
    "\n",
    "#tf.placeholder\n",
    "#loop breaking into chunks, calling multiple times or doing a for loop"
   ]
  },
  {
   "cell_type": "code",
   "execution_count": 52,
   "metadata": {},
   "outputs": [
    {
     "name": "stdout",
     "output_type": "stream",
     "text": [
      "WARNING:tensorflow:From /anaconda3/lib/python3.6/site-packages/tensorflow/python/framework/op_def_library.py:263: colocate_with (from tensorflow.python.framework.ops) is deprecated and will be removed in a future version.\n",
      "Instructions for updating:\n",
      "Colocations handled automatically by placer.\n"
     ]
    }
   ],
   "source": [
    "# Defining weights and biases\n",
    "\n",
    "NUM_CHANNELS = 3 # RGB IMAGE\n",
    "SEED = 42\n",
    "# NUM_LABELS = 1 #should be 7/1/4\n",
    "BATCH_SIZE = 30\n",
    "\n",
    "# 5x5 filter, depth 32.\n",
    "conv1_weights = tf.Variable( tf.truncated_normal([3, 3, NUM_CHANNELS, 32], stddev = 0.1, seed=SEED))\n",
    "conv1_biases = tf.Variable(tf.zeros([32]))\n",
    "\n",
    "conv2_weights = tf.Variable(tf.truncated_normal([3, 3, 32, 64], stddev = 0.1, seed = SEED))\n",
    "conv2_biases = tf.Variable(tf.constant(0.1, shape = [64]))\n",
    "\n",
    "conv3_weights = tf.Variable(tf.truncated_normal([3, 3, 64, 64], stddev = 0.1, seed=SEED))\n",
    "conv3_biases = tf.Variable(tf.constant(0.1, shape = [64]))\n",
    "\n",
    "# fully connected, depth 512\n",
    "fc1_weights = tf.Variable(tf.truncated_normal([IMAGE_SIZE // 4 * IMAGE_SIZE // 4 * 64, 512], \n",
    "                          stddev=0.1, seed=SEED))\n",
    "fc1_biases = tf.Variable(tf.constant(0.1, shape=[512]))\n",
    "fc2_weights = tf.Variable(tf.truncated_normal([512, NUM_LABELS], stddev=0.1, seed=SEED))\n",
    "fc2_biases = tf.Variable(tf.constant(0.1, shape=[NUM_LABELS]))"
   ]
  },
  {
   "cell_type": "code",
   "execution_count": 53,
   "metadata": {},
   "outputs": [],
   "source": [
    "def skin_neural_net(data):\n",
    "    \n",
    "    data = tf.cast(data, tf.float32)\n",
    "\n",
    "    # Step 1: Convolution\n",
    "    #transforming image to 2d and applying convolutional layer\n",
    "    # network = conv_2d (incoming, nb_filter, filter_size) #nb filter is the number of convolutional filters (neurons)\n",
    "    #network = conv_2d(network, 32, 3, activation='relu')    \n",
    "    conv = tf.nn.conv2d(data, conv1_weights, strides=[1, 1, 1, 1], padding='SAME')\n",
    "    \n",
    "    # Step 2: Max pooling\n",
    "    #max pooling documentation goes below: \n",
    "#     tflearn.layers.conv.max_pool_2d (incoming, kernel_size, strides=None, padding='same', name='MaxPool2D')\n",
    "\n",
    "    # Bias and rectified linear non-linearity.\n",
    "    relu = tf.nn.relu(tf.nn.bias_add(conv, conv1_biases))\n",
    "    pool = tf.nn.max_pool(relu, ksize=[1, 2, 2, 1], strides=[1, 2, 2, 1], padding='SAME')\n",
    "    \n",
    "    # Step 3: Convolution\n",
    "    conv = tf.nn.conv2d(pool, conv2_weights, strides=[1, 1, 1, 1], padding='SAME')\n",
    "    \n",
    "    #Thinking about including another max pooling here\n",
    "    \n",
    "    # Step 4: Convolution\n",
    "    conv = tf.nn.conv2d(conv, conv3_weights, strides=[1, 1, 1, 1], padding='SAME')\n",
    "    \n",
    "    # Step 5: Max pooling\n",
    "    relu = tf.nn.relu(tf.nn.bias_add(conv, conv3_biases))\n",
    "    pool = tf.nn.max_pool(relu, ksize=[1, 2, 2, 1], strides=[1, 2, 2, 1], padding='SAME')\n",
    "    \n",
    "    # Step 6: Fully-connected 512 node neural network\n",
    "    #network = fully_connected(network, 512, activation='relu')\n",
    "    pool_shape = pool.get_shape().as_list()\n",
    "    reshape = tf.reshape(pool, [pool_shape[0], pool_shape[1] * pool_shape[2] * pool_shape[3]])\n",
    "\n",
    "    hidden = tf.nn.relu(tf.matmul(reshape, fc1_weights) + fc1_biases)\n",
    "    \n",
    "    # Step 7: Dropout - throw away some data randomly during training to prevent over-fitting\n",
    "    hidden = tf.nn.dropout(hidden, 0.5, seed = SEED)\n",
    "    \n",
    "    # Step 8: Fully-connected neural network with X outputs\n",
    "    network = tf.matmul(hidden, fc2_weights) + fc2_biases\n",
    "    \n",
    "    print(network)\n",
    "    \n",
    "    return network"
   ]
  },
  {
   "cell_type": "code",
   "execution_count": 54,
   "metadata": {},
   "outputs": [
    {
     "data": {
      "text/plain": [
       "(14427, 28, 28, 3)"
      ]
     },
     "execution_count": 54,
     "metadata": {},
     "output_type": "execute_result"
    }
   ],
   "source": [
    "data_test.shape"
   ]
  },
  {
   "cell_type": "code",
   "execution_count": 55,
   "metadata": {},
   "outputs": [],
   "source": [
    "# print(data_train.shape)\n",
    "# data_train = data_train[:data_train.shape[0] // 10]\n",
    "# labels_train = labels_train[:labels_train.shape[0] // 10]"
   ]
  },
  {
   "cell_type": "code",
   "execution_count": 56,
   "metadata": {},
   "outputs": [
    {
     "name": "stdout",
     "output_type": "stream",
     "text": [
      "(92780, 28, 28, 3)\n"
     ]
    }
   ],
   "source": [
    "print(data_train.shape)\n"
   ]
  },
  {
   "cell_type": "code",
   "execution_count": 57,
   "metadata": {},
   "outputs": [
    {
     "name": "stdout",
     "output_type": "stream",
     "text": [
      "WARNING:tensorflow:From <ipython-input-53-18c01b25ed0e>:39: calling dropout (from tensorflow.python.ops.nn_ops) with keep_prob is deprecated and will be removed in a future version.\n",
      "Instructions for updating:\n",
      "Please use `rate` instead of `keep_prob`. Rate should be set to `rate = 1 - keep_prob`.\n",
      "Tensor(\"add_1:0\", shape=(30, 4), dtype=float32)\n",
      "Tensor(\"add_7:0\", shape=(1000, 4), dtype=float32)\n",
      "Tensor(\"add_9:0\", shape=(1400, 4), dtype=float32)\n"
     ]
    }
   ],
   "source": [
    "#Pedro change\n",
    "#creating two tensors in the image dimensions\n",
    "train_data_node = tf.placeholder( tf.float32, shape = (BATCH_SIZE, IMAGE_SIZE, IMAGE_SIZE, NUM_CHANNELS))\n",
    "\n",
    "train_labels_node = tf.placeholder(tf.float32, shape = (BATCH_SIZE, NUM_LABELS))\n",
    "\n",
    "#\n",
    "\n",
    "#validation and datasets nodes\n",
    "validation_data_node = tf.constant(validation_data)\n",
    "test_data_node = tf.constant(data_test)\n",
    "\n",
    "#Original Code\n",
    "#validation_data_node = tf.constant(validation_data)\n",
    "#test_data_node = tf.constant(test_data)\n",
    "\n",
    "\n",
    "logits = skin_neural_net(train_data_node)\n",
    "loss = tf.reduce_mean(tf.nn.sigmoid_cross_entropy_with_logits(labels = train_labels_node, \n",
    "                                                                logits = logits))\n",
    "\n",
    "# L2 regularization for the fully connected parameters.\n",
    "regularizers = (tf.nn.l2_loss(fc1_weights) + tf.nn.l2_loss(fc1_biases) +\n",
    "                tf.nn.l2_loss(fc2_weights) + tf.nn.l2_loss(fc2_biases))\n",
    "# Add the regularization term to the loss.\n",
    "loss += 5e-4 * regularizers\n",
    "\n",
    "# Optimizer: set up a variable that's incremented once per batch and controls the learning rate decay.\n",
    "batch = tf.Variable(0)\n",
    "# Decay once per epoch, using an exponential schedule starting at 0.01.\n",
    "learning_rate = tf.train.exponential_decay(\n",
    "    0.03, # Base learning rate.\n",
    "  batch * BATCH_SIZE,  # Current index into the dataset.\n",
    "  labels_train.shape[0],          # Decay step.\n",
    "  0.97,                # Decay rate.\n",
    "  staircase=True)\n",
    "# Use simple momentum for the optimization.\n",
    "optimizer = tf.train.MomentumOptimizer(learning_rate, 0.9).minimize(loss, global_step=batch)\n",
    "\n",
    "# Predictions for the minibatch, validation set and test set.\n",
    "train_prediction = tf.nn.softmax(logits)\n",
    "# We'll compute them only once in a while by calling their {eval()} method.\n",
    "validation_prediction = tf.nn.softmax(skin_neural_net(validation_data_node))\n",
    "test_prediction = tf.nn.softmax(skin_neural_net(test_data_node))"
   ]
  },
  {
   "cell_type": "code",
   "execution_count": 58,
   "metadata": {},
   "outputs": [
    {
     "name": "stdout",
     "output_type": "stream",
     "text": [
      "Done\n"
     ]
    }
   ],
   "source": [
    "# Create a new interactive session that we'll use in subsequent code cells.\n",
    "s = tf.InteractiveSession()\n",
    "s.as_default() \n",
    "\n",
    "# Initialize all the variables we defined above.\n",
    "tf.global_variables_initializer().run()\n",
    "\n",
    "# Grab the first BATCH_SIZE examples and labels.\n",
    "batch_data = data_train[:BATCH_SIZE, :, :, :]\n",
    "batch_labels = labels_train[:BATCH_SIZE]\n",
    "\n",
    "# This dictionary maps the batch data (as a numpy array) to the\n",
    "# node in the graph it should be fed to.\n",
    "feed_dict = {train_data_node: batch_data,\n",
    "             train_labels_node: batch_labels}\n",
    "\n",
    "# Run the graph and fetch some of the nodes.\n",
    "_, l, lr, predictions = s.run([optimizer, loss, learning_rate, train_prediction], feed_dict = feed_dict)\n",
    "\n",
    "print('Done')"
   ]
  },
  {
   "cell_type": "code",
   "execution_count": 59,
   "metadata": {},
   "outputs": [],
   "source": [
    "def error_rate(predictions, labels):\n",
    "    \"\"\"Return the error rate and confusions.\"\"\"\n",
    "    correct = np.sum(np.argmax(predictions, 1) == np.argmax(labels, 1))\n",
    "    total = predictions.shape[0]\n",
    "\n",
    "    error = 100.0 - (100 * float(correct) / float(total))\n",
    "\n",
    "    confusions = np.zeros([7, 7], np.float32)\n",
    "    bundled = zip(np.argmax(predictions, 1), np.argmax(labels, 1))\n",
    "    for predicted, actual in bundled:\n",
    "        confusions[predicted, actual] += 1\n",
    "    \n",
    "    return error, confusions"
   ]
  },
  {
   "cell_type": "code",
   "execution_count": null,
   "metadata": {},
   "outputs": [],
   "source": []
  },
  {
   "cell_type": "code",
   "execution_count": 60,
   "metadata": {},
   "outputs": [
    {
     "name": "stdout",
     "output_type": "stream",
     "text": [
      "Epoch 0 of 10\n",
      "Mini-batch loss: 1.69353 Error: 47.11298 Learning rate: 0.03000\n",
      "Validation error: 43.7%\n",
      "Epoch 1 of 10\n",
      "Mini-batch loss: 0.91630 Error: 41.90599 Learning rate: 0.02910\n",
      "Validation error: 38.7%\n",
      "Epoch 2 of 10\n",
      "Mini-batch loss: 0.62259 Error: 34.12139 Learning rate: 0.02823\n",
      "Validation error: 28.6%\n",
      "Epoch 3 of 10\n",
      "Mini-batch loss: 0.43501 Error: 25.64791 Learning rate: 0.02738\n",
      "Validation error: 20.5%\n",
      "Epoch 4 of 10\n",
      "Mini-batch loss: 0.36077 Error: 19.55800 Learning rate: 0.02656\n",
      "Validation error: 16.7%\n",
      "Epoch 5 of 10\n",
      "Mini-batch loss: 0.39577 Error: 15.18650 Learning rate: 0.02576\n",
      "Validation error: 12.6%\n",
      "Epoch 6 of 10\n",
      "Mini-batch loss: 0.25758 Error: 12.21863 Learning rate: 0.02499\n",
      "Validation error: 12.1%\n",
      "Epoch 7 of 10\n",
      "Mini-batch loss: 0.32431 Error: 10.45817 Learning rate: 0.02424\n",
      "Validation error: 10.9%\n",
      "Epoch 8 of 10\n",
      "Mini-batch loss: 0.24994 Error: 9.09228 Learning rate: 0.02351\n",
      "Validation error: 9.4%\n",
      "Epoch 9 of 10\n",
      "Mini-batch loss: 0.28482 Error: 7.85899 Learning rate: 0.02281\n",
      "Validation error: 9.0%\n"
     ]
    }
   ],
   "source": [
    "NUM_EPOCH = 10\n",
    "for epoch in range(NUM_EPOCH):\n",
    "    steps = labels_train.shape[0] // BATCH_SIZE\n",
    "    epoch_labels = np.zeros((0,labels_train.shape[1]))\n",
    "    epoch_predictions = np.zeros((0,labels_train.shape[1]))\n",
    "    for step in range(steps):\n",
    "        # Compute the offset of the current minibatch in the data.\n",
    "        # Note that we could use better randomization across epochs.\n",
    "        offset = (step * BATCH_SIZE) % (labels_train.shape[0] - BATCH_SIZE)\n",
    "        batch_data = data_train[offset:(offset + BATCH_SIZE), :, :, :]\n",
    "        batch_labels = labels_train[offset:(offset + BATCH_SIZE)]\n",
    "        # This dictionary maps the batch data (as a numpy array) to the \n",
    "        #node in the graph it should be fed to.\n",
    "        feed_dict = {train_data_node: batch_data,\n",
    "                     train_labels_node: batch_labels}\n",
    "        # Run the graph and fetch some of the nodes.\n",
    "        _, l, lr, predictions = s.run([optimizer, loss, learning_rate, train_prediction],\n",
    "                                          feed_dict=feed_dict)\n",
    "        \n",
    "        epoch_labels = np.concatenate((epoch_labels, batch_labels), axis = 0)\n",
    "        epoch_predictions = np.concatenate((epoch_predictions, predictions), axis = 0)\n",
    "\n",
    "    # Print out the loss periodically.\n",
    "    error, _ = error_rate(epoch_predictions, epoch_labels)\n",
    "    print('Epoch %d of %d' % (epoch, NUM_EPOCH))\n",
    "    print('Mini-batch loss: %.5f Error: %.5f Learning rate: %.5f' % (l, error, lr))\n",
    "    print('Validation error: %.1f%%' % error_rate(\n",
    "          validation_prediction.eval(), validation_labels)[0])"
   ]
  },
  {
   "cell_type": "code",
   "execution_count": 61,
   "metadata": {},
   "outputs": [
    {
     "name": "stdout",
     "output_type": "stream",
     "text": [
      "Test error: 100.0%\n"
     ]
    },
    {
     "name": "stderr",
     "output_type": "stream",
     "text": [
      "/anaconda3/lib/python3.6/site-packages/ipykernel_launcher.py:3: DeprecationWarning: elementwise comparison failed; this will raise an error in the future.\n",
      "  This is separate from the ipykernel package so we can avoid doing imports until\n"
     ]
    },
    {
     "data": {
      "image/png": "[encoded data removed]",
      "text/plain": [
       "<Figure size 432x288 with 2 Axes>"
      ]
     },
     "metadata": {},
     "output_type": "display_data"
    }
   ],
   "source": [
    "# WITH UPSAMPLING\n",
    "test_error, confusions = error_rate(test_prediction.eval(), labels_test)\n",
    "print('Test error: %.1f%%' % test_error)\n",
    "\n",
    "plt.xlabel('Actual')\n",
    "plt.ylabel('Predicted')\n",
    "plt.grid(False)\n",
    "plt.xticks(np.arange(NUM_LABELS))\n",
    "plt.yticks(np.arange(NUM_LABELS))\n",
    "plt.imshow(confusions, cmap=plt.cm.jet, interpolation='nearest');\n",
    "plt.colorbar()\n",
    "\n",
    "for i, cas in enumerate(confusions):\n",
    "    for j, count in enumerate(cas):\n",
    "        if count > 0:\n",
    "            xoff = .07 * len(str(count))\n",
    "            plt.text(j-xoff, i+.2, int(count), fontsize=8, color='white')"
   ]
  },
  {
   "cell_type": "code",
   "execution_count": 62,
   "metadata": {},
   "outputs": [
    {
     "name": "stdout",
     "output_type": "stream",
     "text": [
      "Test error: 28.6%\n"
     ]
    },
    {
     "data": {
      "image/png": "[encoded data removed]",
      "text/plain": [
       "<Figure size 432x288 with 2 Axes>"
      ]
     },
     "metadata": {},
     "output_type": "display_data"
    }
   ],
   "source": [
    "# WITHOUT UP-SAMPLING\n",
    "test_error, confusions = error_rate(test_prediction.eval(), labels_test[:1400])\n",
    "print('Test error: %.1f%%' % test_error)\n",
    "\n",
    "plt.xlabel('Actual')\n",
    "plt.ylabel('Predicted')\n",
    "plt.grid(False)\n",
    "plt.xticks(np.arange(NUM_LABELS))\n",
    "plt.yticks(np.arange(NUM_LABELS))\n",
    "plt.imshow(confusions, cmap=plt.cm.jet, interpolation='nearest');\n",
    "plt.colorbar()\n",
    "\n",
    "for i, cas in enumerate(confusions):\n",
    "    for j, count in enumerate(cas):\n",
    "        if count > 0:\n",
    "            xoff = .07 * len(str(count))\n",
    "            plt.text(j-xoff, i+.2, int(count), fontsize=8, color='white')"
   ]
  },
  {
   "cell_type": "code",
   "execution_count": null,
   "metadata": {},
   "outputs": [],
   "source": []
  },
  {
   "cell_type": "code",
   "execution_count": null,
   "metadata": {},
   "outputs": [],
   "source": []
  },
  {
   "cell_type": "code",
   "execution_count": null,
   "metadata": {},
   "outputs": [],
   "source": []
  },
  {
   "cell_type": "code",
   "execution_count": null,
   "metadata": {},
   "outputs": [],
   "source": []
  }
 ],
 "metadata": {
  "kernelspec": {
   "display_name": "Python 3",
   "language": "python",
   "name": "python3"
  },
  "language_info": {
   "codemirror_mode": {
    "name": "ipython",
    "version": 3
   },
   "file_extension": ".py",
   "mimetype": "text/x-python",
   "name": "python",
   "nbconvert_exporter": "python",
   "pygments_lexer": "ipython3",
   "version": "3.6.5"
  }
 },
 "nbformat": 4,
 "nbformat_minor": 2
}
