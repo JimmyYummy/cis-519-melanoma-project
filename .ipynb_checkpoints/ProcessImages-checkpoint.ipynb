{
 "cells": [
  {
   "cell_type": "code",
   "execution_count": 1,
   "metadata": {},
   "outputs": [],
   "source": [
    "\"\"\"\n",
    "This notebook will downsample 8,000 images from our set of images to 28x28 images\n",
    "It will save them in the /train subfolder\n",
    "These downsampled images are used by the Project notebook in order to train the main CNN\n",
    "\"\"\"\n",
    "#!pip install scikit-image\n",
    "import os\n",
    "import matplotlib.pyplot as plt\n",
    "\n",
    "from skimage import io\n",
    "from skimage.transform import rescale, resize, downscale_local_mean\n",
    "\n",
    "IMAGE_SIZE = 28 # parameter: change this to change downsample size of image"
   ]
  },
  {
   "cell_type": "code",
   "execution_count": 2,
   "metadata": {},
   "outputs": [
    {
     "ename": "FileNotFoundError",
     "evalue": "[Errno 2] No such file or directory: './skin-cancer-mnist-ham10000/HAM10000_images_part_1/'",
     "output_type": "error",
     "traceback": [
      "\u001b[0;31m---------------------------------------------------------------------------\u001b[0m",
      "\u001b[0;31mFileNotFoundError\u001b[0m                         Traceback (most recent call last)",
      "\u001b[0;32m<ipython-input-2-b9d496b2f7bc>\u001b[0m in \u001b[0;36m<module>\u001b[0;34m()\u001b[0m\n\u001b[1;32m      3\u001b[0m \u001b[0mimages\u001b[0m \u001b[0;34m=\u001b[0m \u001b[0;34m[\u001b[0m\u001b[0;34m]\u001b[0m\u001b[0;34m\u001b[0m\u001b[0m\n\u001b[1;32m      4\u001b[0m \u001b[0mtest_images\u001b[0m \u001b[0;34m=\u001b[0m \u001b[0;34m[\u001b[0m\u001b[0;34m]\u001b[0m\u001b[0;34m\u001b[0m\u001b[0m\n\u001b[0;32m----> 5\u001b[0;31m \u001b[0;32mfor\u001b[0m \u001b[0mfilename\u001b[0m \u001b[0;32min\u001b[0m \u001b[0mos\u001b[0m\u001b[0;34m.\u001b[0m\u001b[0mlistdir\u001b[0m\u001b[0;34m(\u001b[0m\u001b[0;34m'./skin-cancer-mnist-ham10000/HAM10000_images_part_1/'\u001b[0m\u001b[0;34m)\u001b[0m\u001b[0;34m:\u001b[0m\u001b[0;34m\u001b[0m\u001b[0m\n\u001b[0m\u001b[1;32m      6\u001b[0m     \u001b[0;32mif\u001b[0m \u001b[0mfilename\u001b[0m\u001b[0;34m.\u001b[0m\u001b[0mendswith\u001b[0m\u001b[0;34m(\u001b[0m\u001b[0;34m'.jpg'\u001b[0m\u001b[0;34m)\u001b[0m\u001b[0;34m:\u001b[0m\u001b[0;34m\u001b[0m\u001b[0m\n\u001b[1;32m      7\u001b[0m         \u001b[0mimages\u001b[0m\u001b[0;34m.\u001b[0m\u001b[0mappend\u001b[0m\u001b[0;34m(\u001b[0m\u001b[0;34m'./skin-cancer-mnist-ham10000/HAM10000_images_part_1/'\u001b[0m \u001b[0;34m+\u001b[0m \u001b[0mfilename\u001b[0m\u001b[0;34m)\u001b[0m\u001b[0;34m\u001b[0m\u001b[0m\n",
      "\u001b[0;31mFileNotFoundError\u001b[0m: [Errno 2] No such file or directory: './skin-cancer-mnist-ham10000/HAM10000_images_part_1/'"
     ]
    }
   ],
   "source": [
    "# Separate dataset into a training and testing dataset\n",
    "\n",
    "images = []\n",
    "test_images = []\n",
    "for filename in os.listdir('./skin-cancer-mnist-ham10000/HAM10000_images_part_1/'):\n",
    "    if filename.endswith('.jpg'):\n",
    "        images.append('./skin-cancer-mnist-ham10000/HAM10000_images_part_1/' + filename)\n",
    "\n",
    "readTrain = True\n",
    "for filename in os.listdir('./skin-cancer-mnist-ham10000/HAM10000_images_part_2/'):\n",
    "    if len(images) == 8000:\n",
    "        readTrain = False\n",
    "    if filename.endswith('.jpg') and readTrain:\n",
    "        images.append('./skin-cancer-mnist-ham10000/HAM10000_images_part_2/' + filename)\n",
    "    elif filename.endswith('.jpg') and not readTrain:\n",
    "        test_images.append('./skin-cancer-mnist-ham10000/HAM10000_images_part_2/' + filename)\n",
    "    \n",
    "print(len(images))\n",
    "print(images[0])\n",
    "print(len(test_images))"
   ]
  },
  {
   "cell_type": "code",
   "execution_count": 69,
   "metadata": {},
   "outputs": [],
   "source": [
    "def resize_image_and_save(path, dstFolder):\n",
    "\n",
    "    image = io.imread(path)\n",
    "\n",
    "    image_resized = resize(image, (IMAGE_SIZE, IMAGE_SIZE),\n",
    "                           anti_aliasing=False)\n",
    "\n",
    "    filename = path.split('/')[len(path.split('/'))-1]\n",
    "    io.imsave('./skin-cancer-mnist-ham10000/' + dstFolder + '/' + filename, image_resized)"
   ]
  },
  {
   "cell_type": "code",
   "execution_count": 70,
   "metadata": {},
   "outputs": [],
   "source": [
    "# Generate Train folder\n",
    "for file in images:\n",
    "    resize_image_and_save(file, 'train')"
   ]
  },
  {
   "cell_type": "code",
   "execution_count": 71,
   "metadata": {},
   "outputs": [],
   "source": [
    "# Generate test folder\n",
    "for file in test_images:\n",
    "    resize_image_and_save(file, 'test')"
   ]
  },
  {
   "cell_type": "code",
   "execution_count": null,
   "metadata": {},
   "outputs": [],
   "source": []
  }
 ],
 "metadata": {
  "kernelspec": {
   "display_name": "Python 3",
   "language": "python",
   "name": "python3"
  },
  "language_info": {
   "codemirror_mode": {
    "name": "ipython",
    "version": 3
   },
   "file_extension": ".py",
   "mimetype": "text/x-python",
   "name": "python",
   "nbconvert_exporter": "python",
   "pygments_lexer": "ipython3",
   "version": "3.6.5"
  }
 },
 "nbformat": 4,
 "nbformat_minor": 2
}
